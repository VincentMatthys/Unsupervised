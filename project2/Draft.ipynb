{
 "cells": [
  {
   "cell_type": "code",
   "execution_count": 11,
   "metadata": {},
   "outputs": [],
   "source": [
    "# For Kmeans algorithm. See PGM otherwise for handcrafted class\n",
    "from sklearn.cluster import KMeans\n",
    "# For loading matlab matrix file\n",
    "from scipy.io import loadmat\n",
    "import numpy as np"
   ]
  },
  {
   "cell_type": "code",
   "execution_count": 12,
   "metadata": {},
   "outputs": [
    {
     "name": "stdout",
     "output_type": "stream",
     "text": [
      "The autoreload extension is already loaded. To reload it, use:\n",
      "  %reload_ext autoreload\n"
     ]
    }
   ],
   "source": [
    "import matplotlib.pyplot as plt\n",
    "%matplotlib inline\n",
    "%load_ext autoreload\n",
    "%autoreload 2\n",
    "%precision %.5f\n",
    "plt.rc('text', usetex=True)\n",
    "plt.rc('font',**{'family':'serif','serif':['Palatino']})"
   ]
  },
  {
   "cell_type": "code",
   "execution_count": 13,
   "metadata": {},
   "outputs": [],
   "source": [
    "def SC(W, n):\n",
    "    \"\"\"\n",
    "    Spectral Clustering algorithm.\n",
    "    :param W: affinity matrix NxN (N : number of points)\n",
    "    :param n: number of clusters\n",
    "    :return : Segmentation of the data in n groups\n",
    "    \"\"\"\n",
    "    # 1. Construct an affinity graph G with weight matrix W\n",
    "    # 2. Compute the degree matrix D = diag(W1) and the Laplacian L = D - W\n",
    "    D = np.diag(W.sum(axis = 1))\n",
    "    L = D - W\n",
    "    # 3. Compute the n eigenvectors of L associated with its n smallest eigenvalues\n",
    "    ## May use scipy.sparse.linalg.eigs to speed up computation\n",
    "    ## Use eigh if always symetric one > test the speed\n",
    "    ## The vectors returned by linalg are normalized\n",
    "    evalues, evectors = np.linalg.eig(L)\n",
    "    # 4. Y : transpose of matrix of eigenvectors normalized by euclidien norm\n",
    "    Y = evectors[:, -n:].T\n",
    "    # 5. Cluster the points {y_j}_1^N into n groups using the K-means algorith"
   ]
  },
  {
   "cell_type": "code",
   "execution_count": 24,
   "metadata": {},
   "outputs": [
    {
     "data": {
      "text/plain": [
       "array([[ 1, -2],\n",
       "       [ 6,  4]])"
      ]
     },
     "execution_count": 24,
     "metadata": {},
     "output_type": "execute_result"
    }
   ],
   "source": [
    "A = np.array([[1,-2], [6,4]])\n",
    "A"
   ]
  },
  {
   "cell_type": "code",
   "execution_count": 25,
   "metadata": {},
   "outputs": [
    {
     "data": {
      "text/plain": [
       "(array([-3.68465844,  8.68465844]), array([[-0.78820544,  0.61541221],\n",
       "        [ 0.61541221,  0.78820544]]))"
      ]
     },
     "execution_count": 25,
     "metadata": {},
     "output_type": "execute_result"
    }
   ],
   "source": [
    "np.linalg.eigh(A)"
   ]
  },
  {
   "cell_type": "code",
   "execution_count": 21,
   "metadata": {},
   "outputs": [
    {
     "data": {
      "text/plain": [
       "array([[-0.85065081,  0.52573111],\n",
       "       [ 0.52573111,  0.85065081]])"
      ]
     },
     "execution_count": 21,
     "metadata": {},
     "output_type": "execute_result"
    }
   ],
   "source": [
    "np.linalg.eigh(A)[1][:, -2:]"
   ]
  },
  {
   "cell_type": "code",
   "execution_count": null,
   "metadata": {},
   "outputs": [],
   "source": [
    "\n"
   ]
  }
 ],
 "metadata": {
  "kernelspec": {
   "display_name": "Python 3",
   "language": "python",
   "name": "python3"
  },
  "language_info": {
   "codemirror_mode": {
    "name": "ipython",
    "version": 3
   },
   "file_extension": ".py",
   "mimetype": "text/x-python",
   "name": "python",
   "nbconvert_exporter": "python",
   "pygments_lexer": "ipython3",
   "version": "3.5.2"
  }
 },
 "nbformat": 4,
 "nbformat_minor": 2
}
