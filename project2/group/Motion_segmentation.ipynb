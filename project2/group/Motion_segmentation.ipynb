{
 "cells": [
  {
   "cell_type": "markdown",
   "metadata": {},
   "source": [
    "# Motion segmentation"
   ]
  },
  {
   "cell_type": "code",
   "execution_count": 120,
   "metadata": {},
   "outputs": [],
   "source": [
    "# For Kmeans algorithm. See PGM otherwise for handcrafted class\n",
    "from sklearn.cluster import KMeans\n",
    "# For loading matlab matrix file\n",
    "from scipy.io import loadmat\n",
    "# Hungarian algorithm\n",
    "from scipy.optimize import linear_sum_assignment\n",
    "\n",
    "#from scipy.sparse.linalg import eigs, eigsh\n",
    "from scipy.stats import itemfreq\n",
    "import numpy as np"
   ]
  },
  {
   "cell_type": "code",
   "execution_count": 121,
   "metadata": {},
   "outputs": [
    {
     "name": "stdout",
     "output_type": "stream",
     "text": [
      "The autoreload extension is already loaded. To reload it, use:\n",
      "  %reload_ext autoreload\n"
     ]
    }
   ],
   "source": [
    "import matplotlib.pyplot as plt\n",
    "%matplotlib inline\n",
    "%load_ext autoreload\n",
    "%autoreload 2\n",
    "%precision %.5f\n",
    "plt.rc('text', usetex=True)\n",
    "plt.rc('font',**{'family':'serif','serif':['Palatino']})"
   ]
  },
  {
   "cell_type": "code",
   "execution_count": 274,
   "metadata": {},
   "outputs": [],
   "source": [
    "#Algorithm and error\n",
    "from error_evaluation import *\n",
    "from Ksubspace import *\n",
    "from spectral_clustering import *\n",
    "from SSC import *"
   ]
  },
  {
   "cell_type": "markdown",
   "metadata": {},
   "source": [
    "Extrait de \n",
    "\n",
    "@article{elhamifar2013sparse,\n",
    "\n",
    "  title={Sparse subspace clustering: Algorithm, theory, and applications},\n",
    "  \n",
    "  author={Elhamifar, Ehsan and Vidal, Rene},\n",
    "  \n",
    "  journal={IEEE transactions on pattern analysis and machine intelligence},\n",
    "  \n",
    "  volume={35},\n",
    "  \n",
    "  number={11},\n",
    "  \n",
    "  pages={2765--2781},\n",
    "  \n",
    "  year={2013},\n",
    "  \n",
    "  publisher={IEEE}\n",
    "  \n",
    "}\n",
    "\n",
    "\n",
    "![article](real_data_article.png)"
   ]
  },
  {
   "cell_type": "markdown",
   "metadata": {},
   "source": [
    "## Globals"
   ]
  },
  {
   "cell_type": "code",
   "execution_count": 123,
   "metadata": {},
   "outputs": [],
   "source": [
    "DATA_DIR = \"data/Hopkins155/\"\n",
    "NEEDLE = \"_truth.mat\""
   ]
  },
  {
   "cell_type": "markdown",
   "metadata": {},
   "source": [
    "## Data"
   ]
  },
  {
   "cell_type": "code",
   "execution_count": 124,
   "metadata": {},
   "outputs": [],
   "source": [
    "import glob\n",
    "import os"
   ]
  },
  {
   "cell_type": "code",
   "execution_count": 289,
   "metadata": {},
   "outputs": [
    {
     "name": "stdout",
     "output_type": "stream",
     "text": [
      "Number of files loaded : 156\n"
     ]
    }
   ],
   "source": [
    "motion_data = {}\n",
    "count_files = 0\n",
    "# iglob for iterator\n",
    "## Recursive=True to use **\n",
    "for file in glob.iglob(DATA_DIR + \"**/*\" + NEEDLE, recursive = True):\n",
    "    mat_name = file.split(\"/\")[-1].split(NEEDLE)[0]\n",
    "    try:\n",
    "        # Load matlab matrix\n",
    "        motion_data[mat_name] = loadmat(file)\n",
    "        # Cast in float64 x\n",
    "        motion_data[mat_name]['x'] = motion_data[mat_name]\\\n",
    "        ['x'].astype(np.float32, subok = True, copy = False)\n",
    "        # Cast number of points in int\n",
    "        motion_data[mat_name]['points'] = motion_data[mat_name]\\\n",
    "        ['points'][0, 0].astype(int)\n",
    "        # Cast number of frames in int\n",
    "        motion_data[mat_name]['frames'] = motion_data[mat_name]\\\n",
    "        ['frames'][0, 0].astype(int)\n",
    "        # Substract 1 to matlab labels\n",
    "        motion_data[mat_name]['s'] -= 1\n",
    "    except OSError:\n",
    "        print ('cannonot open ', file)\n",
    "    else:\n",
    "        count_files += 1\n",
    "        motion_data[mat_name][\"data\"] = \\\n",
    "        np.transpose(motion_data[mat_name]['x'][:2, : :],\n",
    "                     axes = (0, 2, 1)).reshape(2 * motion_data[mat_name]['frames'],\n",
    "                                               motion_data[mat_name][\"points\"])\n",
    "print (\"Number of files loaded : {}\".format(count_files))"
   ]
  },
  {
   "cell_type": "markdown",
   "metadata": {},
   "source": [
    "# Test zone"
   ]
  },
  {
   "cell_type": "markdown",
   "metadata": {},
   "source": [
    "## Cars1"
   ]
  },
  {
   "cell_type": "code",
   "execution_count": 262,
   "metadata": {},
   "outputs": [],
   "source": [
    "key = \"cars1\""
   ]
  },
  {
   "cell_type": "code",
   "execution_count": 264,
   "metadata": {},
   "outputs": [
    {
     "data": {
      "text/plain": [
       "(40, 307)"
      ]
     },
     "execution_count": 264,
     "metadata": {},
     "output_type": "execute_result"
    }
   ],
   "source": [
    "# Data\n",
    "motion_data[key][\"data\"].shape"
   ]
  },
  {
   "cell_type": "code",
   "execution_count": 271,
   "metadata": {},
   "outputs": [
    {
     "name": "stdout",
     "output_type": "stream",
     "text": [
      "Number of groups : 2\n"
     ]
    },
    {
     "data": {
      "text/plain": [
       "(307, 1)"
      ]
     },
     "execution_count": 271,
     "metadata": {},
     "output_type": "execute_result"
    }
   ],
   "source": [
    "# Labels\n",
    "print (\"Number of groups : {}\".format(motion_data[key][\"s\"].max() + 1))\n",
    "motion_data[key][\"s\"].shape"
   ]
  },
  {
   "cell_type": "code",
   "execution_count": 320,
   "metadata": {
    "scrolled": true
   },
   "outputs": [
    {
     "name": "stdout",
     "output_type": "stream",
     "text": [
      "1.69614801026 1.99407192704 484.256500285\n",
      "0.511734949762 0.643528089904 207.861132405\n",
      "0.217496704768 0.282344936483 123.280939214\n",
      "0.167552889282 0.210478847517 81.8168941357\n",
      "0.13700920829 0.164225522038 62.5932389972\n",
      "0.117276114132 0.135752015546 48.5273983596\n",
      "0.103036918555 0.116401634107 40.1499659148\n",
      "0.0923832391918 0.102637102252 34.0941217857\n",
      "0.084374505234 0.0924114373625 29.3062367234\n",
      "0.0781688787155 0.0845788036606 25.300193933\n",
      "0.0729741218684 0.0783315199204 23.1130840066\n",
      "0.0686457690233 0.0734291369028 20.6696775987\n",
      "0.0649624838341 0.0690471668367 18.7660475172\n",
      "0.0618796562703 0.0653307752079 16.9498955523\n",
      "0.0590397391579 0.062197963205 16.0006301855\n",
      "0.0565773830158 0.0593768994974 14.6492350547\n",
      "0.0543778312098 0.056874766863 13.6647381573\n",
      "0.0523819515019 0.0546521030512 12.7771369143\n",
      "0.0505283262953 0.052592339441 12.1595551945\n",
      "0.0487385636974 0.0507261941048 11.8654460315\n",
      "0.0471392256453 0.0489880785819 11.1424646716\n",
      "0.0457095308656 0.047349387385 10.4970551754\n",
      "0.0442760980792 0.0459015961841 10.3742956928\n",
      "0.0430208891415 0.0445002272445 9.69237365816\n",
      "0.0418367938674 0.0432096335976 9.37816604747\n",
      "0.0407974252857 0.0420432000158 8.63135187949\n",
      "0.0398205333828 0.0409151921027 8.39670158118\n",
      "0.0388473660176 0.0399730373273 8.03662242193\n",
      "0.037882276866 0.0389278667691 7.98928607994\n",
      "0.0369952450222 0.0380151057794 7.53090167883\n",
      "0.0360706126895 0.0370827954798 7.5540385771\n",
      "0.0352338509463 0.0361758800652 7.22189727403\n",
      "0.0344844044371 0.0353339781964 6.83139769801\n",
      "0.0337299577544 0.0345521506782 6.90204454756\n",
      "0.0330808080617 0.03385226601 6.35160899278\n",
      "0.0324149315418 0.0331402748977 6.34444448639\n",
      "0.0317628566655 0.032495671318 6.21552181055\n",
      "0.0311768487822 0.0318504330306 5.81754253884\n",
      "0.0305858846386 0.0312322898407 5.81802530534\n",
      "0.0300682233129 0.030677896477 5.36848686959\n",
      "0.0295432624026 0.030114131832 5.31923409756\n",
      "0.0290549339754 0.0295933126634 5.11958442384\n",
      "0.028557671476 0.0290974669418 5.16476326411\n",
      "0.0280687494412 0.0286310913375 5.02978180205\n",
      "0.0276348853832 0.0281279237753 4.77535771828\n",
      "0.0272019112444 0.0276846597986 4.66957816884\n",
      "0.0267802912521 0.0272407174222 4.58804281602\n",
      "0.0263972516171 0.0268257635443 4.38933814058\n",
      "0.0260214784426 0.0264371571959 4.27679968244\n",
      "0.0256559856716 0.0260506954008 4.16598565087\n",
      "0.0252737398451 0.0256781192455 4.33928067767\n",
      "0.024899446736 0.0253519655424 4.12535588067\n",
      "0.0245141028696 0.0249294035889 4.18638862349\n",
      "0.024159310941 0.024562005351 3.97872998243\n",
      "0.0237889916529 0.0241793799432 4.12018871252\n",
      "0.0234480197477 0.0238481930082 3.94999393464\n",
      "0.0231068561968 0.0234918522738 3.89817130524\n",
      "0.0228179513716 0.0231372233972 3.68109679657\n",
      "0.0225031121926 0.0228371983831 3.77989673238\n",
      "0.022205665776 0.0225361124401 3.71807209385\n",
      "0.0219249300971 0.0222457469272 3.57530560763\n",
      "0.0216196594838 0.0219423094442 3.69603736112\n",
      "0.0213585116026 0.0216574481288 3.51309538231\n",
      "0.0210863151993 0.0213873178824 3.50145661779\n",
      "0.0208289138792 0.0211022389316 3.409281965\n",
      "0.020577216075 0.0208314757532 3.4700866384\n",
      "0.020301922976 0.0206052568488 3.47311857259\n",
      "0.020045426705 0.0203131754804 3.46346037381\n",
      "0.0198045439903 0.0200810700126 3.31542256145\n",
      "0.0195530368996 0.0198137315449 3.32800583417\n",
      "0.0193210821648 0.0195598935008 3.3197690622\n",
      "0.0190990890184 0.0193520026834 3.19529674616\n",
      "0.0188774568764 0.0191086089795 3.20773775824\n"
     ]
    },
    {
     "ename": "KeyboardInterrupt",
     "evalue": "",
     "output_type": "error",
     "traceback": [
      "\u001b[0;31m---------------------------------------------------------------------------\u001b[0m",
      "\u001b[0;31mKeyboardInterrupt\u001b[0m                         Traceback (most recent call last)",
      "\u001b[0;32m<ipython-input-320-188d34113293>\u001b[0m in \u001b[0;36m<module>\u001b[0;34m()\u001b[0m\n\u001b[0;32m----> 1\u001b[0;31m \u001b[0mT\u001b[0m \u001b[0;34m=\u001b[0m \u001b[0mSSC\u001b[0m\u001b[0;34m(\u001b[0m\u001b[0mmotion_data\u001b[0m\u001b[0;34m[\u001b[0m\u001b[0;34m\"1R2RC\"\u001b[0m\u001b[0;34m]\u001b[0m\u001b[0;34m[\u001b[0m\u001b[0;34m\"data\"\u001b[0m\u001b[0;34m]\u001b[0m\u001b[0;34m,\u001b[0m \u001b[0;36m2\u001b[0m\u001b[0;34m,\u001b[0m \u001b[0;36m10e3\u001b[0m\u001b[0;34m,\u001b[0m \u001b[0;36m10e2\u001b[0m\u001b[0;34m)\u001b[0m\u001b[0;34m\u001b[0m\u001b[0m\n\u001b[0m",
      "\u001b[0;32m~/MVA/General_PCA/project2/group/SSC.py\u001b[0m in \u001b[0;36mSSC\u001b[0;34m(data, n, tau, mu2)\u001b[0m\n\u001b[1;32m     58\u001b[0m \u001b[0;34m\u001b[0m\u001b[0m\n\u001b[1;32m     59\u001b[0m \u001b[0;32mdef\u001b[0m \u001b[0mSSC\u001b[0m\u001b[0;34m(\u001b[0m\u001b[0mdata\u001b[0m\u001b[0;34m,\u001b[0m\u001b[0mn\u001b[0m\u001b[0;34m,\u001b[0m\u001b[0mtau\u001b[0m\u001b[0;34m,\u001b[0m\u001b[0mmu2\u001b[0m\u001b[0;34m)\u001b[0m\u001b[0;34m:\u001b[0m\u001b[0;34m\u001b[0m\u001b[0m\n\u001b[0;32m---> 60\u001b[0;31m     \u001b[0mC\u001b[0m \u001b[0;34m=\u001b[0m \u001b[0mcompute_sparse_C\u001b[0m\u001b[0;34m(\u001b[0m\u001b[0mdata\u001b[0m\u001b[0;34m,\u001b[0m\u001b[0mtau\u001b[0m\u001b[0;34m,\u001b[0m\u001b[0mmu2\u001b[0m\u001b[0;34m)\u001b[0m\u001b[0;34m\u001b[0m\u001b[0m\n\u001b[0m\u001b[1;32m     61\u001b[0m \u001b[0;34m\u001b[0m\u001b[0m\n\u001b[1;32m     62\u001b[0m     \u001b[0mW\u001b[0m \u001b[0;34m=\u001b[0m \u001b[0mnp\u001b[0m\u001b[0;34m.\u001b[0m\u001b[0mabs\u001b[0m\u001b[0;34m(\u001b[0m\u001b[0mC\u001b[0m\u001b[0;34m)\u001b[0m \u001b[0;34m+\u001b[0m \u001b[0mnp\u001b[0m\u001b[0;34m.\u001b[0m\u001b[0mabs\u001b[0m\u001b[0;34m(\u001b[0m\u001b[0mC\u001b[0m\u001b[0;34m.\u001b[0m\u001b[0mtranspose\u001b[0m\u001b[0;34m(\u001b[0m\u001b[0;34m)\u001b[0m\u001b[0;34m)\u001b[0m\u001b[0;34m\u001b[0m\u001b[0m\n",
      "\u001b[0;32m~/MVA/General_PCA/project2/group/SSC.py\u001b[0m in \u001b[0;36mcompute_sparse_C\u001b[0;34m(data, tau, mu2)\u001b[0m\n\u001b[1;32m     46\u001b[0m         \u001b[0mZ\u001b[0m \u001b[0;34m=\u001b[0m \u001b[0mnp\u001b[0m\u001b[0;34m.\u001b[0m\u001b[0mdot\u001b[0m\u001b[0;34m(\u001b[0m\u001b[0mZ_1\u001b[0m\u001b[0;34m,\u001b[0m\u001b[0mZ_2\u001b[0m\u001b[0;34m)\u001b[0m\u001b[0;34m\u001b[0m\u001b[0m\n\u001b[1;32m     47\u001b[0m \u001b[0;34m\u001b[0m\u001b[0m\n\u001b[0;32m---> 48\u001b[0;31m         \u001b[0mC\u001b[0m \u001b[0;34m=\u001b[0m \u001b[0mS_Shrinkage\u001b[0m\u001b[0;34m(\u001b[0m\u001b[0mZ\u001b[0m\u001b[0;34m+\u001b[0m\u001b[0mlambda2\u001b[0m\u001b[0;34m/\u001b[0m\u001b[0mmu2\u001b[0m\u001b[0;34m,\u001b[0m\u001b[0;36m1\u001b[0m\u001b[0;34m/\u001b[0m\u001b[0mmu2\u001b[0m\u001b[0;34m)\u001b[0m\u001b[0;34m\u001b[0m\u001b[0m\n\u001b[0m\u001b[1;32m     49\u001b[0m         \u001b[0mnp\u001b[0m\u001b[0;34m.\u001b[0m\u001b[0mfill_diagonal\u001b[0m\u001b[0;34m(\u001b[0m\u001b[0mC\u001b[0m\u001b[0;34m,\u001b[0m\u001b[0;36m0\u001b[0m\u001b[0;34m)\u001b[0m\u001b[0;34m\u001b[0m\u001b[0m\n\u001b[1;32m     50\u001b[0m \u001b[0;34m\u001b[0m\u001b[0m\n",
      "\u001b[0;32m~/MVA/General_PCA/project2/group/SSC.py\u001b[0m in \u001b[0;36mS_Shrinkage\u001b[0;34m(Matrix, tau)\u001b[0m\n\u001b[1;32m     21\u001b[0m     \u001b[0mshrink_vect\u001b[0m \u001b[0;34m=\u001b[0m \u001b[0mnp\u001b[0m\u001b[0;34m.\u001b[0m\u001b[0mvectorize\u001b[0m\u001b[0;34m(\u001b[0m\u001b[0mshrink\u001b[0m\u001b[0;34m)\u001b[0m\u001b[0;34m\u001b[0m\u001b[0m\n\u001b[1;32m     22\u001b[0m \u001b[0;34m\u001b[0m\u001b[0m\n\u001b[0;32m---> 23\u001b[0;31m     \u001b[0;32mreturn\u001b[0m \u001b[0mshrink_vect\u001b[0m\u001b[0;34m(\u001b[0m\u001b[0mMatrix\u001b[0m\u001b[0;34m)\u001b[0m\u001b[0;34m\u001b[0m\u001b[0m\n\u001b[0m\u001b[1;32m     24\u001b[0m \u001b[0;34m\u001b[0m\u001b[0m\n\u001b[1;32m     25\u001b[0m \u001b[0;34m\u001b[0m\u001b[0m\n",
      "\u001b[0;32m/usr/local/lib/python3.5/dist-packages/numpy/lib/function_base.py\u001b[0m in \u001b[0;36m__call__\u001b[0;34m(self, *args, **kwargs)\u001b[0m\n\u001b[1;32m   2737\u001b[0m             \u001b[0mvargs\u001b[0m\u001b[0;34m.\u001b[0m\u001b[0mextend\u001b[0m\u001b[0;34m(\u001b[0m\u001b[0;34m[\u001b[0m\u001b[0mkwargs\u001b[0m\u001b[0;34m[\u001b[0m\u001b[0m_n\u001b[0m\u001b[0;34m]\u001b[0m \u001b[0;32mfor\u001b[0m \u001b[0m_n\u001b[0m \u001b[0;32min\u001b[0m \u001b[0mnames\u001b[0m\u001b[0;34m]\u001b[0m\u001b[0;34m)\u001b[0m\u001b[0;34m\u001b[0m\u001b[0m\n\u001b[1;32m   2738\u001b[0m \u001b[0;34m\u001b[0m\u001b[0m\n\u001b[0;32m-> 2739\u001b[0;31m         \u001b[0;32mreturn\u001b[0m \u001b[0mself\u001b[0m\u001b[0;34m.\u001b[0m\u001b[0m_vectorize_call\u001b[0m\u001b[0;34m(\u001b[0m\u001b[0mfunc\u001b[0m\u001b[0;34m=\u001b[0m\u001b[0mfunc\u001b[0m\u001b[0;34m,\u001b[0m \u001b[0margs\u001b[0m\u001b[0;34m=\u001b[0m\u001b[0mvargs\u001b[0m\u001b[0;34m)\u001b[0m\u001b[0;34m\u001b[0m\u001b[0m\n\u001b[0m\u001b[1;32m   2740\u001b[0m \u001b[0;34m\u001b[0m\u001b[0m\n\u001b[1;32m   2741\u001b[0m     \u001b[0;32mdef\u001b[0m \u001b[0m_get_ufunc_and_otypes\u001b[0m\u001b[0;34m(\u001b[0m\u001b[0mself\u001b[0m\u001b[0;34m,\u001b[0m \u001b[0mfunc\u001b[0m\u001b[0;34m,\u001b[0m \u001b[0margs\u001b[0m\u001b[0;34m)\u001b[0m\u001b[0;34m:\u001b[0m\u001b[0;34m\u001b[0m\u001b[0m\n",
      "\u001b[0;32m/usr/local/lib/python3.5/dist-packages/numpy/lib/function_base.py\u001b[0m in \u001b[0;36m_vectorize_call\u001b[0;34m(self, func, args)\u001b[0m\n\u001b[1;32m   2813\u001b[0m                       for a in args]\n\u001b[1;32m   2814\u001b[0m \u001b[0;34m\u001b[0m\u001b[0m\n\u001b[0;32m-> 2815\u001b[0;31m             \u001b[0moutputs\u001b[0m \u001b[0;34m=\u001b[0m \u001b[0mufunc\u001b[0m\u001b[0;34m(\u001b[0m\u001b[0;34m*\u001b[0m\u001b[0minputs\u001b[0m\u001b[0;34m)\u001b[0m\u001b[0;34m\u001b[0m\u001b[0m\n\u001b[0m\u001b[1;32m   2816\u001b[0m \u001b[0;34m\u001b[0m\u001b[0m\n\u001b[1;32m   2817\u001b[0m             \u001b[0;32mif\u001b[0m \u001b[0mufunc\u001b[0m\u001b[0;34m.\u001b[0m\u001b[0mnout\u001b[0m \u001b[0;34m==\u001b[0m \u001b[0;36m1\u001b[0m\u001b[0;34m:\u001b[0m\u001b[0;34m\u001b[0m\u001b[0m\n",
      "\u001b[0;32m~/MVA/General_PCA/project2/group/SSC.py\u001b[0m in \u001b[0;36m<lambda>\u001b[0;34m(m)\u001b[0m\n\u001b[1;32m     18\u001b[0m \u001b[0;34m\u001b[0m\u001b[0m\n\u001b[1;32m     19\u001b[0m     \u001b[0msign\u001b[0m \u001b[0;34m=\u001b[0m \u001b[0;32mlambda\u001b[0m \u001b[0mx\u001b[0m \u001b[0;34m:\u001b[0m \u001b[0;34m-\u001b[0m\u001b[0;36m1\u001b[0m \u001b[0;32mif\u001b[0m \u001b[0;34m(\u001b[0m\u001b[0mx\u001b[0m\u001b[0;34m<\u001b[0m\u001b[0;36m0\u001b[0m\u001b[0;34m)\u001b[0m \u001b[0;32melse\u001b[0m \u001b[0;36m1\u001b[0m\u001b[0;34m\u001b[0m\u001b[0m\n\u001b[0;32m---> 20\u001b[0;31m     \u001b[0mshrink\u001b[0m \u001b[0;34m=\u001b[0m \u001b[0;32mlambda\u001b[0m \u001b[0mm\u001b[0m\u001b[0;34m:\u001b[0m \u001b[0msign\u001b[0m\u001b[0;34m(\u001b[0m\u001b[0mm\u001b[0m\u001b[0;34m)\u001b[0m\u001b[0;34m*\u001b[0m\u001b[0mmax\u001b[0m\u001b[0;34m(\u001b[0m\u001b[0mabs\u001b[0m\u001b[0;34m(\u001b[0m\u001b[0mm\u001b[0m\u001b[0;34m)\u001b[0m\u001b[0;34m-\u001b[0m\u001b[0mtau\u001b[0m\u001b[0;34m,\u001b[0m\u001b[0;36m0\u001b[0m\u001b[0;34m)\u001b[0m\u001b[0;34m\u001b[0m\u001b[0m\n\u001b[0m\u001b[1;32m     21\u001b[0m     \u001b[0mshrink_vect\u001b[0m \u001b[0;34m=\u001b[0m \u001b[0mnp\u001b[0m\u001b[0;34m.\u001b[0m\u001b[0mvectorize\u001b[0m\u001b[0;34m(\u001b[0m\u001b[0mshrink\u001b[0m\u001b[0;34m)\u001b[0m\u001b[0;34m\u001b[0m\u001b[0m\n\u001b[1;32m     22\u001b[0m \u001b[0;34m\u001b[0m\u001b[0m\n",
      "\u001b[0;32m~/MVA/General_PCA/project2/group/SSC.py\u001b[0m in \u001b[0;36m<lambda>\u001b[0;34m(x)\u001b[0m\n\u001b[1;32m     17\u001b[0m \u001b[0;32mdef\u001b[0m \u001b[0mS_Shrinkage\u001b[0m\u001b[0;34m(\u001b[0m\u001b[0mMatrix\u001b[0m\u001b[0;34m,\u001b[0m\u001b[0mtau\u001b[0m\u001b[0;34m)\u001b[0m\u001b[0;34m:\u001b[0m\u001b[0;34m\u001b[0m\u001b[0m\n\u001b[1;32m     18\u001b[0m \u001b[0;34m\u001b[0m\u001b[0m\n\u001b[0;32m---> 19\u001b[0;31m     \u001b[0msign\u001b[0m \u001b[0;34m=\u001b[0m \u001b[0;32mlambda\u001b[0m \u001b[0mx\u001b[0m \u001b[0;34m:\u001b[0m \u001b[0;34m-\u001b[0m\u001b[0;36m1\u001b[0m \u001b[0;32mif\u001b[0m \u001b[0;34m(\u001b[0m\u001b[0mx\u001b[0m\u001b[0;34m<\u001b[0m\u001b[0;36m0\u001b[0m\u001b[0;34m)\u001b[0m \u001b[0;32melse\u001b[0m \u001b[0;36m1\u001b[0m\u001b[0;34m\u001b[0m\u001b[0m\n\u001b[0m\u001b[1;32m     20\u001b[0m     \u001b[0mshrink\u001b[0m \u001b[0;34m=\u001b[0m \u001b[0;32mlambda\u001b[0m \u001b[0mm\u001b[0m\u001b[0;34m:\u001b[0m \u001b[0msign\u001b[0m\u001b[0;34m(\u001b[0m\u001b[0mm\u001b[0m\u001b[0;34m)\u001b[0m\u001b[0;34m*\u001b[0m\u001b[0mmax\u001b[0m\u001b[0;34m(\u001b[0m\u001b[0mabs\u001b[0m\u001b[0;34m(\u001b[0m\u001b[0mm\u001b[0m\u001b[0;34m)\u001b[0m\u001b[0;34m-\u001b[0m\u001b[0mtau\u001b[0m\u001b[0;34m,\u001b[0m\u001b[0;36m0\u001b[0m\u001b[0;34m)\u001b[0m\u001b[0;34m\u001b[0m\u001b[0m\n\u001b[1;32m     21\u001b[0m     \u001b[0mshrink_vect\u001b[0m \u001b[0;34m=\u001b[0m \u001b[0mnp\u001b[0m\u001b[0;34m.\u001b[0m\u001b[0mvectorize\u001b[0m\u001b[0;34m(\u001b[0m\u001b[0mshrink\u001b[0m\u001b[0;34m)\u001b[0m\u001b[0;34m\u001b[0m\u001b[0m\n",
      "\u001b[0;31mKeyboardInterrupt\u001b[0m: "
     ]
    }
   ],
   "source": [
    "T = SSC(motion_data[\"1R2RC\"][\"data\"], 2, 10e3, 10e2)"
   ]
  },
  {
   "cell_type": "code",
   "execution_count": null,
   "metadata": {},
   "outputs": [],
   "source": []
  }
 ],
 "metadata": {
  "kernelspec": {
   "display_name": "Python 3",
   "language": "python",
   "name": "python3"
  },
  "language_info": {
   "codemirror_mode": {
    "name": "ipython",
    "version": 3
   },
   "file_extension": ".py",
   "mimetype": "text/x-python",
   "name": "python",
   "nbconvert_exporter": "python",
   "pygments_lexer": "ipython3",
   "version": "3.5.2"
  }
 },
 "nbformat": 4,
 "nbformat_minor": 2
}
