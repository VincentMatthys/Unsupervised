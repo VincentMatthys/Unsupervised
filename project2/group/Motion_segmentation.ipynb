{
 "cells": [
  {
   "cell_type": "markdown",
   "metadata": {},
   "source": [
    "# Motion segmentation"
   ]
  },
  {
   "cell_type": "code",
   "execution_count": 1,
   "metadata": {},
   "outputs": [],
   "source": [
    "# For Kmeans algorithm. See PGM otherwise for handcrafted class\n",
    "from sklearn.cluster import KMeans\n",
    "# For loading matlab matrix file\n",
    "from scipy.io import loadmat\n",
    "# Hungarian algorithm\n",
    "from scipy.optimize import linear_sum_assignment\n",
    "\n",
    "#from scipy.sparse.linalg import eigs, eigsh\n",
    "from scipy.stats import itemfreq\n",
    "import numpy as np\n",
    "\n",
    "#Progressbar\n",
    "from tqdm import tqdm"
   ]
  },
  {
   "cell_type": "code",
   "execution_count": 2,
   "metadata": {},
   "outputs": [],
   "source": [
    "import matplotlib.pyplot as plt\n",
    "%matplotlib inline\n",
    "%load_ext autoreload\n",
    "%autoreload 2\n",
    "%precision %.5f\n",
    "%load_ext line_profiler\n",
    "\n",
    "plt.rc('text', usetex=True)\n",
    "plt.rc('font',**{'family':'serif','serif':['Palatino']})"
   ]
  },
  {
   "cell_type": "code",
   "execution_count": 4,
   "metadata": {},
   "outputs": [],
   "source": [
    "#Algorithm and error\n",
    "from error_evaluation import *\n",
    "from ksubspaces import *\n",
    "from spectral_clustering import *\n",
    "from SSC import *"
   ]
  },
  {
   "cell_type": "markdown",
   "metadata": {},
   "source": [
    "Extrait de \n",
    "\n",
    "@article{elhamifar2013sparse,\n",
    "\n",
    "  title={Sparse subspace clustering: Algorithm, theory, and applications},\n",
    "  \n",
    "  author={Elhamifar, Ehsan and Vidal, Rene},\n",
    "  \n",
    "  journal={IEEE transactions on pattern analysis and machine intelligence},\n",
    "  \n",
    "  volume={35},\n",
    "  \n",
    "  number={11},\n",
    "  \n",
    "  pages={2765--2781},\n",
    "  \n",
    "  year={2013},\n",
    "  \n",
    "  publisher={IEEE}\n",
    "  \n",
    "}\n",
    "\n",
    "\n",
    "![article](real_data_article.png)"
   ]
  },
  {
   "cell_type": "markdown",
   "metadata": {},
   "source": [
    "## Globals"
   ]
  },
  {
   "cell_type": "code",
   "execution_count": 5,
   "metadata": {},
   "outputs": [],
   "source": [
    "DATA_DIR = \"data/Hopkins155/\"\n",
    "NEEDLE = \"_truth.mat\""
   ]
  },
  {
   "cell_type": "markdown",
   "metadata": {},
   "source": [
    "## Data"
   ]
  },
  {
   "cell_type": "code",
   "execution_count": 6,
   "metadata": {},
   "outputs": [],
   "source": [
    "import glob\n",
    "import os"
   ]
  },
  {
   "cell_type": "code",
   "execution_count": 7,
   "metadata": {},
   "outputs": [
    {
     "name": "stdout",
     "output_type": "stream",
     "text": [
      "Number of files loaded : 156\n"
     ]
    }
   ],
   "source": [
    "motion_data = {}\n",
    "count_files = 0\n",
    "# iglob for iterator\n",
    "## Recursive=True to use **\n",
    "for file in glob.iglob(DATA_DIR + \"**/*\" + NEEDLE, recursive = True):\n",
    "    mat_name = file.split(\"/\")[-1].split(NEEDLE)[0]\n",
    "    try:\n",
    "        # Load matlab matrix\n",
    "        motion_data[mat_name] = loadmat(file)\n",
    "        # Cast in float64 x\n",
    "        motion_data[mat_name]['x'] = motion_data[mat_name]\\\n",
    "        ['x'].astype(np.float64, subok = True, copy = False)\n",
    "        # Cast number of points in int\n",
    "        motion_data[mat_name]['points'] = motion_data[mat_name]\\\n",
    "        ['points'][0, 0].astype(int)\n",
    "        # Cast number of frames in int\n",
    "        motion_data[mat_name]['frames'] = motion_data[mat_name]\\\n",
    "        ['frames'][0, 0].astype(int)\n",
    "        # Substract 1 to matlab labels\n",
    "        motion_data[mat_name]['s'] -= 1\n",
    "    except OSError:\n",
    "        print ('cannonot open ', file)\n",
    "    else:\n",
    "        count_files += 1\n",
    "        motion_data[mat_name][\"data\"] = \\\n",
    "        np.transpose(motion_data[mat_name]['x'][:2, : :],\n",
    "                     axes = (0, 2, 1)).reshape(2 * motion_data[mat_name]['frames'],\n",
    "                                               motion_data[mat_name][\"points\"])\n",
    "print (\"Number of files loaded : {}\".format(count_files))"
   ]
  },
  {
   "cell_type": "markdown",
   "metadata": {},
   "source": [
    "## Results zone : SSC"
   ]
  },
  {
   "cell_type": "code",
   "execution_count": 10,
   "metadata": {},
   "outputs": [],
   "source": [
    "Res = np.load('motion_res_SSC.npy').item()"
   ]
  },
  {
   "cell_type": "markdown",
   "metadata": {},
   "source": [
    "### $tau = 1e3$, $mu=1e3$"
   ]
  },
  {
   "cell_type": "code",
   "execution_count": 38,
   "metadata": {},
   "outputs": [],
   "source": [
    "tau = 1e3\n",
    "mu = 1e3"
   ]
  },
  {
   "cell_type": "code",
   "execution_count": 44,
   "metadata": {},
   "outputs": [],
   "source": [
    "Res[(tau, mu)] = {}\n",
    "for key in tqdm(motion_data.keys()):\n",
    "    # Number of ground_truth classes\n",
    "    nbr_classes = motion_data[key][\"s\"].max() + 1\n",
    "    Res[(tau, mu)][key] = evaluate_error(SSC(motion_data[key][\"data\"], nbr_classes, tau, mu)[1],\n",
    "                              motion_data[key][\"s\"].reshape(-1))"
   ]
  },
  {
   "cell_type": "code",
   "execution_count": 58,
   "metadata": {},
   "outputs": [
    {
     "data": {
      "text/plain": [
       "dict_keys([(1000.0, 1000.0), (10000.0, 1000.0)])"
      ]
     },
     "execution_count": 58,
     "metadata": {},
     "output_type": "execute_result"
    }
   ],
   "source": [
    "Res.keys()"
   ]
  },
  {
   "cell_type": "code",
   "execution_count": 64,
   "metadata": {},
   "outputs": [
    {
     "data": {
      "text/plain": [
       "0.01303"
      ]
     },
     "execution_count": 64,
     "metadata": {},
     "output_type": "execute_result"
    }
   ],
   "source": [
    "Res[(1e4, 1e3)]"
   ]
  },
  {
   "cell_type": "markdown",
   "metadata": {},
   "source": [
    "### $tau = 1e4$, $mu=1e3$"
   ]
  },
  {
   "cell_type": "code",
   "execution_count": 65,
   "metadata": {},
   "outputs": [
    {
     "name": "stderr",
     "output_type": "stream",
     "text": [
      "100%|██████████| 156/156 [24:43<00:00,  9.51s/it]\n"
     ]
    }
   ],
   "source": [
    "tau = 1e4\n",
    "mu = 1e3\n",
    "Res[(tau, mu)] = {}\n",
    "for key in tqdm(motion_data.keys()):\n",
    "    # Number of ground_truth classes\n",
    "    nbr_classes = motion_data[key][\"s\"].max() + 1\n",
    "    Res[(tau, mu)][key] = evaluate_error(SSC(motion_data[key][\"data\"], nbr_classes, tau, mu)[1],\n",
    "                              motion_data[key][\"s\"].reshape(-1))"
   ]
  },
  {
   "cell_type": "markdown",
   "metadata": {},
   "source": [
    "### $tau = 1e5$, $mu=1e3$"
   ]
  },
  {
   "cell_type": "code",
   "execution_count": 68,
   "metadata": {},
   "outputs": [
    {
     "name": "stderr",
     "output_type": "stream",
     "text": [
      "100%|██████████| 156/156 [23:49<00:00,  9.16s/it]\n"
     ]
    }
   ],
   "source": [
    "tau = 1e5\n",
    "mu = 1e3\n",
    "Res[(tau, mu)] = {}\n",
    "for key in tqdm(motion_data.keys()):\n",
    "    # Number of ground_truth classes\n",
    "    nbr_classes = motion_data[key][\"s\"].max() + 1\n",
    "    Res[(tau, mu)][key] = evaluate_error(SSC(motion_data[key][\"data\"], nbr_classes, tau, mu)[1],\n",
    "                              motion_data[key][\"s\"].reshape(-1))"
   ]
  },
  {
   "cell_type": "markdown",
   "metadata": {},
   "source": [
    "### $tau = 1e6$, $mu=1e3$"
   ]
  },
  {
   "cell_type": "code",
   "execution_count": 82,
   "metadata": {},
   "outputs": [
    {
     "name": "stderr",
     "output_type": "stream",
     "text": [
      "100%|██████████| 156/156 [19:55<00:00,  7.66s/it]\n"
     ]
    }
   ],
   "source": [
    "tau = 1e6\n",
    "mu = 1e3\n",
    "Res[(tau, mu)] = {}\n",
    "for key in tqdm(motion_data.keys()):\n",
    "    # Number of ground_truth classes\n",
    "    nbr_classes = motion_data[key][\"s\"].max() + 1\n",
    "    Res[(tau, mu)][key] = evaluate_error(SSC(motion_data[key][\"data\"], nbr_classes, tau, mu)[1],\n",
    "                              motion_data[key][\"s\"].reshape(-1))"
   ]
  },
  {
   "cell_type": "markdown",
   "metadata": {},
   "source": [
    "### $tau = 1e7$, $mu=1e3$"
   ]
  },
  {
   "cell_type": "code",
   "execution_count": 92,
   "metadata": {},
   "outputs": [
    {
     "name": "stderr",
     "output_type": "stream",
     "text": [
      "100%|██████████| 156/156 [32:19<00:00, 12.43s/it]\n"
     ]
    }
   ],
   "source": [
    "tau = 1e7\n",
    "mu = 1e3\n",
    "Res[(tau, mu)] = {}\n",
    "for key in tqdm(motion_data.keys()):\n",
    "    # Number of ground_truth classes\n",
    "    nbr_classes = motion_data[key][\"s\"].max() + 1\n",
    "    Res[(tau, mu)][key] = evaluate_error(SSC(motion_data[key][\"data\"], nbr_classes, tau, mu)[1],\n",
    "                              motion_data[key][\"s\"].reshape(-1))"
   ]
  },
  {
   "cell_type": "code",
   "execution_count": 11,
   "metadata": {},
   "outputs": [],
   "source": [
    "#np.save('motion_res_SSC.npy', Res)"
   ]
  },
  {
   "cell_type": "markdown",
   "metadata": {},
   "source": [
    "## Results zone : K-subspace\n",
    "Figure 11.4 shows the singular values of the matrix of feature point trajectories\n",
    "of a single motion for several videos in the data set. Note that the singular value\n",
    "curve has a knee around 4, corroborating the approximate 4-dimensionality of the\n",
    "motion data in each video."
   ]
  },
  {
   "cell_type": "code",
   "execution_count": 20,
   "metadata": {},
   "outputs": [],
   "source": [
    "K_sub = {}"
   ]
  },
  {
   "cell_type": "code",
   "execution_count": null,
   "metadata": {},
   "outputs": [
    {
     "name": "stderr",
     "output_type": "stream",
     "text": [
      "  1%|▏         | 2/156 [00:21<27:11, 10.60s/it]"
     ]
    }
   ],
   "source": [
    "for restarts in [500]:\n",
    "    K_sub[restarts] = {}\n",
    "    for key in tqdm(motion_data.keys()):\n",
    "        # Number of ground_truth classes\n",
    "        nbr_classes = motion_data[key][\"s\"].max() + 1\n",
    "        K_sub[restarts][key] = evaluate_error(ksubspaces(motion_data[key][\"data\"], nbr_classes,\n",
    "                                                         nbr_classes * [4], restarts)[0][0],\n",
    "                                              motion_data[key][\"s\"].reshape(-1))\n",
    "np.save('motion_res_ksub.npy', K_sub)"
   ]
  },
  {
   "cell_type": "markdown",
   "metadata": {},
   "source": [
    "# Test zone"
   ]
  },
  {
   "cell_type": "markdown",
   "metadata": {},
   "source": [
    "## Cars1"
   ]
  },
  {
   "cell_type": "markdown",
   "metadata": {},
   "source": [
    "|$\\tau$ | $\\mu_2$| $error (\\%)$|\n",
    "|-------|--------|-------------|\n",
    "|1e6    |1e6     |1.30         |\n",
    "|1e8    |1e6     |16.94        |\n",
    "|1e3    |1e6     |0.00         |\n",
    "|1e3    |1e4     |0.32         |\n",
    "|    |     |         |\n",
    "|    |     |         |\n",
    "|    |     |         |\n",
    "|    |     |         |\n",
    "|    |     |         |\n",
    "|    |     |         |\n",
    "|    |     |         |\n",
    "|    |     |         |\n"
   ]
  },
  {
   "cell_type": "code",
   "execution_count": 13,
   "metadata": {},
   "outputs": [],
   "source": [
    "key = \"cars1\""
   ]
  },
  {
   "cell_type": "code",
   "execution_count": 14,
   "metadata": {},
   "outputs": [
    {
     "data": {
      "text/plain": [
       "(40, 307)"
      ]
     },
     "execution_count": 14,
     "metadata": {},
     "output_type": "execute_result"
    }
   ],
   "source": [
    "# Data\n",
    "motion_data[key][\"data\"].shape"
   ]
  },
  {
   "cell_type": "code",
   "execution_count": 15,
   "metadata": {},
   "outputs": [
    {
     "name": "stdout",
     "output_type": "stream",
     "text": [
      "Number of groups : 2\n"
     ]
    },
    {
     "data": {
      "text/plain": [
       "(307, 1)"
      ]
     },
     "execution_count": 15,
     "metadata": {},
     "output_type": "execute_result"
    }
   ],
   "source": [
    "# Labels\n",
    "print (\"Number of groups : {}\".format(motion_data[key][\"s\"].max() + 1))\n",
    "motion_data[key][\"s\"].shape"
   ]
  },
  {
   "cell_type": "code",
   "execution_count": 73,
   "metadata": {},
   "outputs": [],
   "source": [
    "T = SSC(motion_data[\"cars1\"][\"data\"], 2, 10e3, 10e3)"
   ]
  },
  {
   "cell_type": "code",
   "execution_count": 76,
   "metadata": {
    "scrolled": true
   },
   "outputs": [],
   "source": [
    "%lprun -f compute_sparse_C T = SSC(motion_data[\"cars1\"][\"data\"], 2, 10e3, 10e3)"
   ]
  },
  {
   "cell_type": "code",
   "execution_count": 75,
   "metadata": {},
   "outputs": [
    {
     "data": {
      "text/plain": [
       "0.01303"
      ]
     },
     "execution_count": 75,
     "metadata": {},
     "output_type": "execute_result"
    }
   ],
   "source": [
    "# 10e5 10e5 : 0.01303\n",
    "evaluate_error(T[1], motion_data[\"cars1\"][\"s\"].reshape(-1))"
   ]
  },
  {
   "cell_type": "markdown",
   "metadata": {},
   "source": [
    "## 2RT3RC"
   ]
  },
  {
   "cell_type": "markdown",
   "metadata": {},
   "source": [
    "|$\\tau$ | $\\mu_2$| $error (\\%)$|\n",
    "|-------|--------|-------------|\n",
    "|1e3    |1e6     |48.46         |\n",
    "|1e5    |1e6     |23.41         |\n",
    "|1e5    |1e3     |2.36         |\n",
    "|1e2    |     |    Not converging     |\n",
    "|1e6    |1e1     |40.47         |\n",
    "|1e6    |1e3     |1.63         |\n",
    "|1e6    |1e4     |1.63         |\n",
    "|1e6    |1e5     |2.90       |\n",
    "|1e6    |1e8    |35.57         |\n",
    "|1e7    |1e3     |1.63         |\n",
    "|    |     |         |"
   ]
  },
  {
   "cell_type": "code",
   "execution_count": 96,
   "metadata": {},
   "outputs": [
    {
     "name": "stdout",
     "output_type": "stream",
     "text": [
      "[[ 3.08478096  0.          0.         ...,  0.          0.          0.        ]\n",
      " [ 0.          4.51525604  0.         ...,  0.          0.          0.        ]\n",
      " [ 0.          0.          2.44128282 ...,  0.          0.          0.        ]\n",
      " ..., \n",
      " [ 0.          0.          0.         ...,  7.40659508  0.          0.        ]\n",
      " [ 0.          0.          0.         ...,  0.          1.58260061  0.        ]\n",
      " [ 0.          0.          0.         ...,  0.          0.          0.99505101]]\n",
      "Erreur : 0.016333938294010888\n"
     ]
    },
    {
     "data": {
      "text/plain": [
       "0.01633"
      ]
     },
     "execution_count": 96,
     "metadata": {},
     "output_type": "execute_result"
    }
   ],
   "source": [
    "key = \"2RT3RC\"\n",
    "T = SSC(motion_data[key][\"data\"], motion_data[key][\"s\"].max() + 1, 1e6, 1e3)\n",
    "evaluate_error(T[1], motion_data[key][\"s\"].reshape(-1))"
   ]
  },
  {
   "cell_type": "code",
   "execution_count": 98,
   "metadata": {},
   "outputs": [
    {
     "name": "stdout",
     "output_type": "stream",
     "text": [
      "[[  3.14557565   0.           0.         ...,   0.           0.           0.        ]\n",
      " [  0.           8.01983806   0.         ...,   0.           0.           0.        ]\n",
      " [  0.           0.           2.78783241 ...,   0.           0.           0.        ]\n",
      " ..., \n",
      " [  0.           0.           0.         ...,  16.18052198   0.           0.        ]\n",
      " [  0.           0.           0.         ...,   0.           1.31183943\n",
      "    0.        ]\n",
      " [  0.           0.           0.         ...,   0.           0.\n",
      "    3.39565212]]\n"
     ]
    }
   ],
   "source": [
    "%lprun -f  compute_sparse_C T = SSC(motion_data[key][\"data\"], motion_data[key][\"s\"].max() + 1, 1e7, 1e3)"
   ]
  },
  {
   "cell_type": "markdown",
   "metadata": {},
   "source": [
    "## K-subspaces"
   ]
  },
  {
   "cell_type": "code",
   "execution_count": 19,
   "metadata": {},
   "outputs": [
    {
     "name": "stdout",
     "output_type": "stream",
     "text": [
      "Current error for 0 replicate : 3.54615e+02\n",
      "Current error for 1 replicate : 2.32741e+02\n",
      "Current error for 2 replicate : 1.83868e+02\n"
     ]
    }
   ],
   "source": [
    "key = \"2RT3RC\"\n",
    "nbr_subspaces = motion_data[key][\"s\"].max() + 1\n",
    "T = ksubspaces(motion_data[key][\"data\"], nbr_subspaces , nbr_subspaces * [5] , 3, verbose = True)\n",
    "# evaluate_error(T[1], motion_data[key][\"s\"].reshape(-1))"
   ]
  },
  {
   "cell_type": "code",
   "execution_count": 17,
   "metadata": {},
   "outputs": [
    {
     "data": {
      "text/plain": [
       "array([1, 2, 0, 1, 2, 2, 1, 0, 1, 1, 0, 2, 1, 2, 2, 0, 0, 2, 1, 1, 1, 1, 2,\n",
       "       1, 0, 1, 0, 2, 2, 2, 1, 1, 1, 1, 1, 1, 0, 1, 1, 1, 0, 1, 2, 2, 1, 1,\n",
       "       0, 1, 1, 2, 1, 1, 0, 1, 1, 0, 2, 1, 0, 2, 1, 2, 1, 1, 1, 0, 2, 2, 0,\n",
       "       1, 0, 2, 0, 0, 0, 0, 1, 0, 1, 2, 2, 1, 1, 0, 2, 2, 0, 0, 2, 0, 2, 1,\n",
       "       2, 1, 2, 2, 1, 2, 2, 1, 0, 0, 2, 1, 1, 1, 2, 2, 2, 2, 0, 0, 1, 2, 0,\n",
       "       2, 2, 1, 1, 0, 0, 2, 2, 1, 0, 2, 1, 0, 2, 2, 1, 1, 1, 2, 1, 2, 1, 1,\n",
       "       1, 2, 2, 1, 2, 1, 0, 2, 1, 1, 1, 2, 0, 1, 1, 1, 2, 0, 0, 2, 2, 0, 2,\n",
       "       0, 2, 2, 1, 2, 1, 1, 1, 2, 2, 1, 1, 2, 1, 1, 2, 2, 1, 1, 2, 1, 2, 2,\n",
       "       2, 1, 1, 1, 0, 1, 1, 1, 2, 2, 1, 2, 0, 1, 2, 1, 0, 1, 2, 2, 2, 2, 2,\n",
       "       1, 0, 0, 2, 0, 2, 2, 2, 2, 2, 2, 2, 1, 2, 2, 1, 2, 2, 1, 2, 2, 2, 2,\n",
       "       1, 0, 2, 2, 1, 0, 2, 2, 2, 0, 1, 2, 1, 2, 0, 2, 2, 1, 2, 2, 1, 0, 2,\n",
       "       0, 2, 2, 2, 1, 2, 2, 2, 2, 1, 2, 2, 2, 1, 2, 2, 2, 2, 2, 2, 2, 2, 2,\n",
       "       0, 2, 2, 2, 2, 2, 2, 1, 2, 1, 2, 2, 0, 2, 2, 0, 2, 0, 1, 1, 2, 2, 0,\n",
       "       2, 2, 2, 2, 2, 0, 2, 2, 1, 2, 2, 1, 1, 1, 2, 2, 2, 0, 0, 2, 2, 2, 2,\n",
       "       2, 0, 2, 2, 2, 1, 1, 1, 2, 2, 2, 2, 2, 2, 0, 1, 2, 2, 2, 2, 2, 1, 2,\n",
       "       0, 2, 2, 2, 2, 2, 2, 2, 0, 1, 2, 2, 2, 2, 2, 2, 2, 1, 1, 1, 2, 0, 2,\n",
       "       2, 2, 1, 2, 0, 2, 2, 2, 2, 2, 2, 1, 2, 2, 2, 2, 2, 2, 2, 2, 2, 2, 2,\n",
       "       0, 2, 0, 2, 2, 2, 2, 2, 1, 2, 2, 2, 2, 2, 2, 2, 0, 2, 2, 2, 0, 2, 2,\n",
       "       2, 2, 2, 1, 2, 2, 2, 2, 2, 1, 1, 0, 2, 2, 0, 2, 2, 2, 0, 2, 2, 2, 0,\n",
       "       0, 2, 1, 2, 0, 2, 2, 0, 1, 2, 2, 2, 2, 2, 2, 2, 2, 2, 2, 2, 1, 2, 2,\n",
       "       1, 2, 1, 2, 2, 2, 2, 2, 2, 2, 2, 2, 2, 2, 2, 2, 2, 0, 2, 1, 1, 1, 2,\n",
       "       2, 2, 2, 0, 2, 2, 2, 2, 2, 1, 2, 2, 2, 2, 2, 1, 2, 2, 1, 2, 1, 2, 2,\n",
       "       2, 1, 2, 2, 2, 2, 2, 2, 1, 2, 2, 2, 2, 2, 1, 2, 2, 2, 2, 2, 2, 2, 2,\n",
       "       2, 2, 2, 2, 2, 2, 2, 1, 2, 2, 2, 2, 2, 2, 2, 1, 1, 2, 2, 2, 2, 2], dtype=uint8)"
      ]
     },
     "execution_count": 17,
     "metadata": {},
     "output_type": "execute_result"
    }
   ],
   "source": [
    "motion_data[key][\"s\"].reshape(-1)"
   ]
  },
  {
   "cell_type": "code",
   "execution_count": 105,
   "metadata": {},
   "outputs": [],
   "source": [
    "data = motion_data[key][\"data\"]"
   ]
  }
 ],
 "metadata": {
  "kernelspec": {
   "display_name": "Python 3",
   "language": "python",
   "name": "python3"
  },
  "language_info": {
   "codemirror_mode": {
    "name": "ipython",
    "version": 3
   },
   "file_extension": ".py",
   "mimetype": "text/x-python",
   "name": "python",
   "nbconvert_exporter": "python",
   "pygments_lexer": "ipython3",
   "version": "3.5.2"
  }
 },
 "nbformat": 4,
 "nbformat_minor": 2
}
