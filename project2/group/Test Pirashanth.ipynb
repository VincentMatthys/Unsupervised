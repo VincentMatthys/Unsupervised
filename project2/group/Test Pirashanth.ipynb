{
 "cells": [
  {
   "cell_type": "code",
   "execution_count": 4,
   "metadata": {
    "scrolled": true
   },
   "outputs": [
    {
     "name": "stdout",
     "output_type": "stream",
     "text": [
      "The autoreload extension is already loaded. To reload it, use:\n",
      "  %reload_ext autoreload\n"
     ]
    }
   ],
   "source": [
    "import matplotlib.pyplot as plt\n",
    "%matplotlib inline\n",
    "%load_ext autoreload\n",
    "%autoreload 2\n",
    "%precision %.5f\n",
    "plt.rc('text', usetex=True)\n",
    "plt.rc('font',**{'family':'serif','serif':['Palatino']})"
   ]
  },
  {
   "cell_type": "code",
   "execution_count": 5,
   "metadata": {},
   "outputs": [],
   "source": [
    "import numpy as np\n",
    "import scipy\n",
    "from sklearn.cluster import KMeans\n",
    "from scipy.io import loadmat\n",
    "epsilon = 1"
   ]
  },
  {
   "cell_type": "code",
   "execution_count": null,
   "metadata": {
    "scrolled": true
   },
   "outputs": [],
   "source": [
    "def S_Shrinkage(Matrix,tau):\n",
    "    \n",
    "    sign = lambda x : -1 if (x<0) else 1\n",
    "    shrink = lambda m: sign(m)*max(abs(m)-tau,0)\n",
    "    shrink_vect = np.vectorize(shrink)\n",
    "    \n",
    "    return shrink_vect(Matrix)\n",
    "\n",
    "\n",
    "def compute_sparse_C(data,tau,mu2):\n",
    "    global epsilon\n",
    "    C = np.zeros((data.shape[1],data.shape[1]))\n",
    "    lambda2 = np.zeros((data.shape[1],data.shape[1]))\n",
    "    C_previous = np.ones((data.shape[1],data.shape[1]))*float('inf')\n",
    "    lambda2previous = np.ones((data.shape[1],data.shape[1]))*float('inf')\n",
    "    Z_previous= np.ones((data.shape[1],data.shape[1]))*float('inf')\n",
    "    Z = np.zeros((data.shape[1],data.shape[1]))\n",
    "    \n",
    "    while (np.linalg.norm(C-C_previous)>epsilon or np.linalg.norm(Z-Z_previous)>epsilon or np.linalg.norm(lambda2-lambda2previous)>epsilon):\n",
    "        \n",
    "        C_previous = np.array(C)\n",
    "        Z_previous = np.array(Z)\n",
    "        lambda2previous = np.array(lambda2)\n",
    "        \n",
    "\n",
    "        print (\"coucou\")\n",
    "        Z_1 = np.linalg.pinv(tau*np.dot(data.transpose(),data)+ mu2*np.eye(data.shape[1]))\n",
    "        Z_2 = tau*np.dot(data.transpose(),data) + mu2*(C-lambda2/mu2)\n",
    "        Z = np.dot(Z_1,Z_2)\n",
    "        C = S_Shrinkage(Z+lambda2/mu2,1/mu2)\n",
    "        C = C - np.diag(C)\n",
    "        lambda2 = lambda2 + mu2*(Z-C)\n",
    "        print(np.linalg.norm(C-C_previous),np.linalg.norm(Z-Z_previous),np.linalg.norm(lambda2-lambda2previous))\n",
    "\n",
    "    print (\"-----------Compute sparse C over\")\n",
    "    return C\n",
    "        \n",
    "\n",
    "def SSC(data,n,tau,mu2):\n",
    "    C = compute_sparse_C(data,tau,mu2)\n",
    "    \n",
    "    W = abs(C) +abs(C.transpose())\n",
    "    \n",
    "    D = np.diag(np.sum(W,axis=0))\n",
    "    \n",
    "    L = D - W\n",
    "    \n",
    "    D_1_2= np.linalg.inv(scipy.linalg.sqrtm(D))\n",
    "    \n",
    "    transform_L= np.dot(np.dot(D_1_2,L),D_1_2)\n",
    "    w,v = np.linalg.eig(transform_L)\n",
    "    \n",
    "    eigv = v[-n:,:]\n",
    "    row_sums = eigv.sum(axis=1)\n",
    "    normalize_eigv = eigv / row_sums[:, np.newaxis]\n",
    "    \n",
    "    km = KMeans(n_clusters=n)\n",
    "    km.fit(normalize_eigv.transpose())\n",
    "    return C,km.predict(normalize_eigv.transpose())\n",
    "     \n",
    "\n",
    "    \n",
    "mat = loadmat('ExtendedYaleB.mat')\n",
    "data = mat['EYALEB_DATA']\n",
    "true_label = mat['EYALEB_LABEL']\n",
    "C_m, eval_label = SSC(data,16,3,3)\n"
   ]
  },
  {
   "cell_type": "code",
   "execution_count": 15,
   "metadata": {},
   "outputs": [
    {
     "data": {
      "text/plain": [
       "array([1, 1, 1, 1, 1, 1, 1, 1, 1, 1, 1, 1, 1, 1, 1, 1, 1, 1, 1, 1, 1, 1, 1,\n",
       "       1, 1, 1, 1, 1, 1, 1, 1, 1, 1, 1, 1, 1, 1, 1, 1, 1, 1, 1, 1, 1, 1, 1,\n",
       "       1, 1, 1, 1, 1, 1, 1, 1, 1, 1, 1, 1, 1, 1, 1, 1, 1, 1, 2, 2, 2, 2, 2,\n",
       "       2, 2, 2, 2, 2, 2, 2, 2, 2, 2, 2, 2, 2, 2, 2, 2, 2, 2, 2, 2, 2, 2, 2,\n",
       "       2, 2, 2, 2, 2, 2, 2, 2], dtype=uint8)"
      ]
     },
     "execution_count": 15,
     "metadata": {},
     "output_type": "execute_result"
    }
   ],
   "source": []
  },
  {
   "cell_type": "code",
   "execution_count": null,
   "metadata": {},
   "outputs": [],
   "source": []
  }
 ],
 "metadata": {
  "kernelspec": {
   "display_name": "Python 3",
   "language": "python",
   "name": "python3"
  },
  "language_info": {
   "codemirror_mode": {
    "name": "ipython",
    "version": 3
   },
   "file_extension": ".py",
   "mimetype": "text/x-python",
   "name": "python",
   "nbconvert_exporter": "python",
   "pygments_lexer": "ipython3",
   "version": "3.5.2"
  }
 },
 "nbformat": 4,
 "nbformat_minor": 2
}
