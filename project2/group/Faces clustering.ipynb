{
 "cells": [
  {
   "cell_type": "markdown",
   "metadata": {},
   "source": [
    "# Faces clustering"
   ]
  },
  {
   "cell_type": "code",
   "execution_count": 1,
   "metadata": {},
   "outputs": [],
   "source": [
    "# For Kmeans algorithm. See PGM otherwise for handcrafted class\n",
    "from sklearn.cluster import KMeans\n",
    "# For loading matlab matrix file\n",
    "from scipy.io import loadmat\n",
    "# Hungarian algorithm\n",
    "from scipy.optimize import linear_sum_assignment\n",
    "\n",
    "#from scipy.sparse.linalg import eigs, eigsh\n",
    "from scipy.stats import itemfreq\n",
    "import numpy as np"
   ]
  },
  {
   "cell_type": "code",
   "execution_count": 2,
   "metadata": {},
   "outputs": [],
   "source": [
    "import matplotlib.pyplot as plt\n",
    "%matplotlib inline\n",
    "%load_ext autoreload\n",
    "%autoreload 2\n",
    "%precision %.5f\n",
    "%load_ext line_profiler\n",
    "plt.rc('text', usetex=True)\n",
    "plt.rc('font',**{'family':'serif','serif':['Palatino']})"
   ]
  },
  {
   "cell_type": "code",
   "execution_count": 3,
   "metadata": {},
   "outputs": [],
   "source": [
    "#Algorithm and error\n",
    "from error_evaluation import *\n",
    "from spectral_clustering import *\n",
    "from SSC import *\n",
    "from ksubspaces import *"
   ]
  },
  {
   "cell_type": "markdown",
   "metadata": {},
   "source": [
    "## Globals"
   ]
  },
  {
   "cell_type": "code",
   "execution_count": 4,
   "metadata": {},
   "outputs": [],
   "source": [
    "DATA_DIR = \"data/\""
   ]
  },
  {
   "cell_type": "markdown",
   "metadata": {},
   "source": [
    "## Data"
   ]
  },
  {
   "cell_type": "code",
   "execution_count": 5,
   "metadata": {},
   "outputs": [],
   "source": [
    "YaleB = loadmat(DATA_DIR + 'ExtendedYaleB.mat')\n",
    "data = YaleB['EYALEB_DATA'].astype(np.int64)\n",
    "ground_truth = YaleB['EYALEB_LABEL'].reshape(-1) - 1"
   ]
  },
  {
   "cell_type": "code",
   "execution_count": 6,
   "metadata": {},
   "outputs": [],
   "source": [
    "# Construct data sets of individuals\n",
    "keys = [2, 10, 20, 30, 38]\n",
    "data_set = {key : {\"data\" : data[:, ground_truth < key],\n",
    "                   \"labels\" : ground_truth[:(ground_truth < key).sum()]\n",
    "                  } for key in keys}"
   ]
  },
  {
   "cell_type": "markdown",
   "metadata": {},
   "source": [
    "## Reults"
   ]
  },
  {
   "cell_type": "code",
   "execution_count": 11,
   "metadata": {
    "scrolled": true
   },
   "outputs": [
    {
     "data": {
      "text/plain": [
       "array([ 2, 10, 20, 30, 38])"
      ]
     },
     "execution_count": 11,
     "metadata": {},
     "output_type": "execute_result"
    }
   ],
   "source": [
    "# Keys of data_set, ascent order\n",
    "I = np.array(list(data_set.keys()))\n",
    "I.sort()\n",
    "I"
   ]
  },
  {
   "cell_type": "code",
   "execution_count": 12,
   "metadata": {},
   "outputs": [
    {
     "name": "stdout",
     "output_type": "stream",
     "text": [
      "---- Length of datasets : ----\n",
      "For individuals 1-2 : 128\n",
      "For individuals 1-10 : 640\n",
      "For individuals 1-20 : 1262\n",
      "For individuals 1-30 : 1902\n",
      "For individuals 1-38 : 2414\n"
     ]
    }
   ],
   "source": [
    "#Length of dataset\n",
    "length = {}\n",
    "print (\"---- Length of datasets : ----\")\n",
    "for i in I:\n",
    "    length[i] = len(data_set[i][\"labels\"])\n",
    "    print (\"For individuals 1-{} : {}\". format(i, len(data_set[i][\"labels\"])))"
   ]
  },
  {
   "cell_type": "markdown",
   "metadata": {},
   "source": [
    "### SSC"
   ]
  },
  {
   "cell_type": "code",
   "execution_count": 13,
   "metadata": {},
   "outputs": [],
   "source": [
    "SSC_res = {}"
   ]
  },
  {
   "cell_type": "code",
   "execution_count": 14,
   "metadata": {},
   "outputs": [],
   "source": [
    "i = 2\n",
    "SSC_res[i] = {}"
   ]
  },
  {
   "cell_type": "code",
   "execution_count": 19,
   "metadata": {
    "scrolled": true
   },
   "outputs": [
    {
     "name": "stdout",
     "output_type": "stream",
     "text": [
      "Current error: 4.76687e+04\n",
      "Current error: 4.55434e+04\n",
      "Current error: 4.38262e+04\n",
      "Current error: 4.23540e+04\n",
      "Current error: 4.11160e+04\n",
      "Current error: 4.00554e+04\n",
      "Current error: 3.91288e+04\n",
      "Current error: 3.83210e+04\n",
      "Current error: 3.76072e+04\n",
      "Current error: 3.69652e+04\n",
      "Current error: 3.63867e+04\n",
      "Current error: 3.58609e+04\n",
      "Current error: 3.53771e+04\n",
      "Current error: 3.49278e+04\n",
      "Current error: 3.45113e+04\n",
      "Current error: 3.41206e+04\n",
      "Current error: 3.37520e+04\n",
      "Current error: 3.34031e+04\n",
      "Current error: 3.30719e+04\n",
      "Current error: 3.27554e+04\n",
      "Current error: 3.24525e+04\n",
      "Current error: 3.21610e+04\n",
      "Current error: 3.18805e+04\n",
      "Current error: 3.16099e+04\n",
      "Current error: 3.13480e+04\n",
      "Current error: 3.10943e+04\n",
      "Current error: 3.08482e+04\n",
      "Current error: 3.06091e+04\n",
      "Current error: 3.03765e+04\n",
      "Current error: 3.01495e+04\n",
      "Current error: 2.99278e+04\n",
      "Current error: 2.97113e+04\n",
      "Current error: 2.94996e+04\n",
      "Current error: 2.92924e+04\n",
      "Current error: 2.90896e+04\n",
      "Current error: 2.88907e+04\n",
      "Current error: 2.86957e+04\n",
      "Current error: 2.85042e+04\n",
      "Current error: 2.83161e+04\n",
      "Current error: 2.81314e+04\n",
      "Current error: 2.79497e+04\n",
      "Current error: 2.77710e+04\n",
      "Current error: 2.75952e+04\n",
      "Current error: 2.74222e+04\n",
      "Current error: 2.72518e+04\n",
      "Current error: 2.70840e+04\n",
      "Current error: 2.69187e+04\n",
      "Current error: 2.67557e+04\n",
      "Current error: 2.65950e+04\n",
      "Current error: 2.64364e+04\n",
      "Current error: 2.62801e+04\n",
      "Current error: 2.61258e+04\n",
      "Current error: 2.59734e+04\n",
      "Current error: 2.58231e+04\n",
      "Current error: 2.56746e+04\n",
      "Current error: 2.55279e+04\n",
      "Current error: 2.53830e+04\n",
      "Current error: 2.52399e+04\n",
      "Current error: 2.50984e+04\n",
      "Current error: 2.49586e+04\n",
      "Current error: 2.48204e+04\n",
      "Current error: 2.46838e+04\n",
      "Current error: 2.45488e+04\n",
      "Current error: 2.44152e+04\n",
      "Current error: 2.42831e+04\n",
      "Current error: 2.41524e+04\n",
      "Current error: 2.40231e+04\n",
      "Current error: 2.38952e+04\n",
      "Current error: 2.37687e+04\n",
      "Current error: 2.36434e+04\n",
      "Current error: 2.35195e+04\n",
      "Current error: 2.33968e+04\n",
      "Current error: 2.32753e+04\n",
      "Current error: 2.31551e+04\n",
      "Current error: 2.30360e+04\n",
      "Current error: 2.29181e+04\n",
      "Current error: 2.28014e+04\n",
      "Current error: 2.26858e+04\n",
      "Current error: 2.25713e+04\n",
      "Current error: 2.24579e+04\n",
      "Current error: 2.23456e+04\n",
      "Current error: 2.22343e+04\n",
      "Current error: 2.21241e+04\n",
      "Current error: 2.20148e+04\n",
      "Current error: 2.19066e+04\n",
      "Current error: 2.17994e+04\n",
      "Current error: 2.16931e+04\n",
      "Current error: 2.15878e+04\n",
      "Current error: 2.14834e+04\n",
      "Current error: 2.13799e+04\n",
      "Current error: 2.12774e+04\n",
      "Current error: 2.11758e+04\n",
      "Current error: 2.10750e+04\n",
      "Current error: 2.09751e+04\n",
      "Current error: 2.08761e+04\n",
      "Current error: 2.07779e+04\n",
      "Current error: 2.06806e+04\n",
      "Current error: 2.05840e+04\n",
      "Current error: 2.04883e+04\n",
      "Current error: 2.03934e+04\n",
      "Current error: 2.02993e+04\n",
      "Current error: 2.02060e+04\n",
      "Current error: 2.01134e+04\n",
      "Current error: 2.00216e+04\n",
      "Current error: 1.99306e+04\n",
      "Current error: 1.98402e+04\n",
      "Current error: 1.97506e+04\n",
      "Current error: 1.96618e+04\n",
      "Current error: 1.95736e+04\n",
      "Current error: 1.94862e+04\n",
      "Current error: 1.93994e+04\n",
      "Current error: 1.93133e+04\n",
      "Current error: 1.92279e+04\n",
      "Current error: 1.91432e+04\n",
      "Current error: 1.90591e+04\n",
      "Current error: 1.89757e+04\n",
      "Current error: 1.88929e+04\n",
      "Current error: 1.88108e+04\n",
      "Current error: 1.87292e+04\n",
      "Current error: 1.86484e+04\n",
      "Current error: 1.85681e+04\n",
      "Current error: 1.84884e+04\n",
      "Current error: 1.84093e+04\n",
      "Current error: 1.83308e+04\n",
      "Current error: 1.82530e+04\n",
      "Current error: 1.81756e+04\n",
      "Current error: 1.80989e+04\n",
      "Current error: 1.80227e+04\n",
      "Current error: 1.79471e+04\n",
      "Current error: 1.78720e+04\n",
      "Current error: 1.77975e+04\n",
      "Current error: 1.77236e+04\n",
      "Current error: 1.76501e+04\n",
      "Current error: 1.75772e+04\n",
      "Current error: 1.75049e+04\n",
      "Current error: 1.74330e+04\n",
      "Current error: 1.73616e+04\n",
      "Current error: 1.72908e+04\n",
      "Current error: 1.72205e+04\n",
      "Current error: 1.71506e+04\n",
      "Current error: 1.70813e+04\n",
      "Current error: 1.70124e+04\n",
      "Current error: 1.69440e+04\n",
      "Current error: 1.68761e+04\n",
      "Current error: 1.68087e+04\n",
      "Current error: 1.67418e+04\n",
      "Current error: 1.66752e+04\n",
      "Current error: 1.66092e+04\n",
      "Current error: 1.65436e+04\n",
      "Current error: 1.64785e+04\n",
      "Current error: 1.64138e+04\n",
      "Current error: 1.63495e+04\n",
      "Current error: 1.62857e+04\n",
      "Current error: 1.62223e+04\n",
      "Current error: 1.61593e+04\n",
      "Current error: 1.60968e+04\n",
      "Current error: 1.60347e+04\n",
      "Current error: 1.59730e+04\n",
      "Current error: 1.59116e+04\n",
      "Current error: 1.58508e+04\n",
      "Current error: 1.57903e+04\n",
      "Current error: 1.57302e+04\n",
      "Current error: 1.56705e+04\n",
      "Current error: 1.56112e+04\n",
      "Current error: 1.55522e+04\n",
      "Current error: 1.54937e+04\n",
      "Current error: 1.54355e+04\n",
      "Current error: 1.53778e+04\n",
      "Current error: 1.53204e+04\n",
      "Current error: 1.52633e+04\n",
      "Current error: 1.52067e+04\n",
      "Current error: 1.51503e+04\n",
      "Current error: 1.50944e+04\n",
      "Current error: 1.50388e+04\n",
      "Current error: 1.49836e+04\n",
      "Current error: 1.49287e+04\n",
      "Current error: 1.48741e+04\n",
      "Current error: 1.48199e+04\n",
      "Current error: 1.47661e+04\n",
      "Current error: 1.47126e+04\n",
      "Current error: 1.46594e+04\n",
      "Current error: 1.46065e+04\n",
      "Current error: 1.45540e+04\n",
      "Current error: 1.45018e+04\n",
      "Current error: 1.44499e+04\n",
      "Current error: 1.43983e+04\n",
      "Current error: 1.43471e+04\n",
      "Current error: 1.42962e+04\n",
      "Current error: 1.42456e+04\n",
      "Current error: 1.41953e+04\n",
      "Current error: 1.41453e+04\n",
      "Current error: 1.40956e+04\n",
      "Current error: 1.40462e+04\n",
      "Current error: 1.39971e+04\n",
      "Current error: 1.39483e+04\n",
      "Current error: 1.38998e+04\n",
      "Current error: 1.38516e+04\n",
      "Current error: 1.38036e+04\n",
      "Current error: 1.37560e+04\n",
      "Current error: 1.37086e+04\n",
      "Current error: 1.36616e+04\n",
      "Current error: 1.36148e+04\n",
      "Current error: 1.35683e+04\n",
      "Current error: 1.35220e+04\n",
      "Current error: 1.34761e+04\n",
      "Current error: 1.34304e+04\n",
      "Current error: 1.33849e+04\n",
      "Current error: 1.33398e+04\n",
      "Current error: 1.32949e+04\n",
      "Current error: 1.32502e+04\n",
      "Current error: 1.32058e+04\n",
      "Current error: 1.31617e+04\n",
      "Current error: 1.31179e+04\n",
      "Current error: 1.30742e+04\n",
      "Current error: 1.30309e+04\n",
      "Current error: 1.29878e+04\n",
      "Current error: 1.29449e+04\n",
      "Current error: 1.29023e+04\n",
      "Current error: 1.28599e+04\n",
      "Current error: 1.28178e+04\n",
      "Current error: 1.27759e+04\n",
      "Current error: 1.27342e+04\n",
      "Current error: 1.26928e+04\n",
      "Current error: 1.26516e+04\n",
      "Current error: 1.26107e+04\n",
      "Current error: 1.25699e+04\n",
      "Current error: 1.25294e+04\n",
      "Current error: 1.24892e+04\n",
      "Current error: 1.24491e+04\n",
      "Current error: 1.24093e+04\n",
      "Current error: 1.23697e+04\n",
      "Current error: 1.23303e+04\n",
      "Current error: 1.22912e+04\n",
      "Current error: 1.22523e+04\n",
      "Current error: 1.22135e+04\n",
      "Current error: 1.21750e+04\n",
      "Current error: 1.21367e+04\n",
      "Current error: 1.20986e+04\n",
      "Current error: 1.20608e+04\n",
      "Current error: 1.20231e+04\n",
      "Current error: 1.19856e+04\n",
      "Current error: 1.19484e+04\n",
      "Current error: 1.19113e+04\n",
      "Current error: 1.18745e+04\n",
      "Current error: 1.18378e+04\n",
      "Current error: 1.18013e+04\n",
      "Current error: 1.17651e+04\n",
      "Current error: 1.17290e+04\n",
      "Current error: 1.16932e+04\n",
      "Current error: 1.16575e+04\n",
      "Current error: 1.16220e+04\n",
      "Current error: 1.15867e+04\n",
      "Current error: 1.15516e+04\n",
      "Current error: 1.15167e+04\n",
      "Current error: 1.14820e+04\n",
      "Current error: 1.14474e+04\n",
      "Current error: 1.14130e+04\n",
      "Current error: 1.13789e+04\n",
      "Current error: 1.13449e+04\n",
      "Current error: 1.13110e+04\n",
      "Current error: 1.12774e+04\n",
      "Current error: 1.12439e+04\n",
      "Current error: 1.12107e+04\n",
      "Current error: 1.11775e+04\n",
      "Current error: 1.11446e+04\n",
      "Current error: 1.11118e+04\n",
      "Current error: 1.10792e+04\n",
      "Current error: 1.10468e+04\n",
      "Current error: 1.10146e+04\n",
      "Current error: 1.09825e+04\n",
      "Current error: 1.09506e+04\n",
      "Current error: 1.09188e+04\n",
      "Current error: 1.08872e+04\n",
      "Current error: 1.08558e+04\n",
      "Current error: 1.08245e+04\n",
      "Current error: 1.07934e+04\n",
      "Current error: 1.07625e+04\n",
      "Current error: 1.07317e+04\n",
      "Current error: 1.07011e+04\n",
      "Current error: 1.06706e+04\n",
      "Current error: 1.06403e+04\n",
      "Current error: 1.06101e+04\n",
      "Current error: 1.05801e+04\n",
      "Current error: 1.05502e+04\n",
      "Current error: 1.05205e+04\n",
      "Current error: 1.04910e+04\n",
      "Current error: 1.04616e+04\n",
      "Current error: 1.04323e+04\n",
      "Current error: 1.04032e+04\n",
      "Current error: 1.03743e+04\n",
      "Current error: 1.03455e+04\n",
      "Current error: 1.03168e+04\n",
      "Current error: 1.02883e+04\n",
      "Current error: 1.02599e+04\n",
      "Current error: 1.02317e+04\n",
      "Current error: 1.02036e+04\n",
      "Current error: 1.01756e+04\n",
      "Current error: 1.01478e+04\n",
      "Current error: 1.01201e+04\n",
      "Current error: 1.00926e+04\n",
      "Current error: 1.00652e+04\n",
      "Current error: 1.00379e+04\n",
      "Current error: 1.00108e+04\n",
      "Current error: 9.98376e+03\n",
      "Current error: 9.95689e+03\n"
     ]
    },
    {
     "name": "stdout",
     "output_type": "stream",
     "text": [
      "Current error: 9.93016e+03\n",
      "Current error: 9.90356e+03\n",
      "Current error: 9.87709e+03\n",
      "Current error: 9.85075e+03\n",
      "Current error: 9.82454e+03\n",
      "Current error: 9.79845e+03\n",
      "Current error: 9.77250e+03\n",
      "Current error: 9.74667e+03\n",
      "Current error: 9.72097e+03\n",
      "Current error: 9.69539e+03\n",
      "Current error: 9.66994e+03\n",
      "Current error: 9.64461e+03\n",
      "Current error: 9.61941e+03\n",
      "Current error: 9.59433e+03\n",
      "Current error: 9.56937e+03\n",
      "Current error: 9.54452e+03\n",
      "Current error: 9.51980e+03\n",
      "Current error: 9.49520e+03\n",
      "Current error: 9.47072e+03\n",
      "Current error: 9.44636e+03\n",
      "Current error: 9.42211e+03\n",
      "Current error: 9.39798e+03\n",
      "Current error: 9.37397e+03\n",
      "Current error: 9.35007e+03\n",
      "Current error: 9.32628e+03\n",
      "Current error: 9.30261e+03\n",
      "Current error: 9.27905e+03\n",
      "Current error: 9.25561e+03\n",
      "Current error: 9.23227e+03\n",
      "Current error: 9.20905e+03\n",
      "Current error: 9.18593e+03\n",
      "Current error: 9.16293e+03\n",
      "Current error: 9.14003e+03\n",
      "Current error: 9.11725e+03\n",
      "Current error: 9.09457e+03\n",
      "Current error: 9.07200e+03\n",
      "Current error: 9.04953e+03\n",
      "Current error: 9.02717e+03\n",
      "Current error: 9.00492e+03\n",
      "Current error: 8.98277e+03\n",
      "Current error: 8.96073e+03\n",
      "Current error: 8.93878e+03\n",
      "Current error: 8.91694e+03\n",
      "Current error: 8.89521e+03\n",
      "Current error: 8.87357e+03\n",
      "Current error: 8.85204e+03\n",
      "Current error: 8.83061e+03\n",
      "Current error: 8.80927e+03\n",
      "Current error: 8.78804e+03\n",
      "Current error: 8.76690e+03\n",
      "Current error: 8.74587e+03\n",
      "Current error: 8.72493e+03\n",
      "Current error: 8.70409e+03\n",
      "Current error: 8.68334e+03\n",
      "Current error: 8.66269e+03\n",
      "Current error: 8.64214e+03\n",
      "Current error: 8.62168e+03\n",
      "Current error: 8.60131e+03\n",
      "Current error: 8.58104e+03\n",
      "Current error: 8.56086e+03\n",
      "Current error: 8.54078e+03\n",
      "Current error: 8.52079e+03\n",
      "Current error: 8.50088e+03\n",
      "Current error: 8.48108e+03\n",
      "Current error: 8.46136e+03\n",
      "Current error: 8.44173e+03\n",
      "Current error: 8.42219e+03\n",
      "Current error: 8.40274e+03\n",
      "Current error: 8.38338e+03\n",
      "Current error: 8.36411e+03\n",
      "Current error: 8.34492e+03\n",
      "Current error: 8.32582e+03\n",
      "Current error: 8.30681e+03\n",
      "Current error: 8.28789e+03\n",
      "Current error: 8.26905e+03\n",
      "Current error: 8.25030e+03\n",
      "Current error: 8.23163e+03\n",
      "Current error: 8.21304e+03\n",
      "Current error: 8.19454e+03\n",
      "Current error: 8.17613e+03\n",
      "Current error: 8.15779e+03\n",
      "Current error: 8.13954e+03\n",
      "Current error: 8.12138e+03\n",
      "Current error: 8.10329e+03\n",
      "Current error: 8.08528e+03\n",
      "Current error: 8.06736e+03\n",
      "Current error: 8.04951e+03\n",
      "Current error: 8.03175e+03\n",
      "Current error: 8.01407e+03\n",
      "Current error: 7.99646e+03\n",
      "Current error: 7.97893e+03\n",
      "Current error: 7.96148e+03\n",
      "Current error: 7.94411e+03\n",
      "Current error: 7.92682e+03\n",
      "Current error: 7.90960e+03\n",
      "Current error: 7.89246e+03\n",
      "Current error: 7.87540e+03\n",
      "Current error: 7.85841e+03\n",
      "Current error: 7.84150e+03\n",
      "Current error: 7.82466e+03\n",
      "Current error: 7.80790e+03\n",
      "Current error: 7.79121e+03\n",
      "Current error: 7.77460e+03\n",
      "Current error: 7.75805e+03\n",
      "Current error: 7.74159e+03\n",
      "Current error: 7.72519e+03\n",
      "Current error: 7.70887e+03\n",
      "Current error: 7.69262e+03\n",
      "Current error: 7.67644e+03\n",
      "Current error: 7.66033e+03\n",
      "Current error: 7.64429e+03\n",
      "Current error: 7.62832e+03\n",
      "[[ 16.53948391   0.           0.         ...,   0.           0.           0.        ]\n",
      " [  0.          15.11756654   0.         ...,   0.           0.           0.        ]\n",
      " [  0.           0.          17.15794155 ...,   0.           0.           0.        ]\n",
      " ..., \n",
      " [  0.           0.           0.         ...,  16.88621642   0.           0.        ]\n",
      " [  0.           0.           0.         ...,   0.          11.51470637\n",
      "    0.        ]\n",
      " [  0.           0.           0.         ...,   0.           0.\n",
      "   54.77572578]]\n"
     ]
    }
   ],
   "source": [
    "# tau value\n",
    "tau = 1\n",
    "# mu2 value\n",
    "mu2 = 500\n",
    "temp = SSC(data_set[i][\"data\"], i, tau, mu2, verbose = True)"
   ]
  },
  {
   "cell_type": "code",
   "execution_count": 20,
   "metadata": {},
   "outputs": [
    {
     "data": {
      "text/plain": [
       "array([0, 0, 0, 1, 0, 0, 0, 0, 0, 0, 0, 0, 0, 0, 0, 0, 0, 0, 0, 0, 0, 0, 0,\n",
       "       0, 0, 0, 0, 0, 0, 0, 0, 1, 0, 0, 0, 0, 0, 0, 0, 0, 0, 0, 0, 0, 1, 0,\n",
       "       1, 0, 0, 0, 1, 1, 1, 1, 0, 1, 1, 1, 1, 1, 1, 1, 1, 1, 1, 1, 1, 1, 0,\n",
       "       0, 1, 1, 1, 1, 1, 1, 1, 0, 1, 1, 1, 1, 0, 1, 0, 0, 0, 0, 1, 0, 0, 0,\n",
       "       1, 0, 0, 1, 1, 0, 1, 1, 1, 1, 0, 1, 1, 1, 0, 1, 1, 1, 1, 1, 1, 1, 1,\n",
       "       1, 1, 1, 1, 1, 1, 1, 1, 1, 1, 1, 1, 1], dtype=int32)"
      ]
     },
     "execution_count": 20,
     "metadata": {},
     "output_type": "execute_result"
    }
   ],
   "source": [
    "temp[1]"
   ]
  },
  {
   "cell_type": "code",
   "execution_count": 21,
   "metadata": {},
   "outputs": [
    {
     "data": {
      "text/plain": [
       "0.25781"
      ]
     },
     "execution_count": 21,
     "metadata": {},
     "output_type": "execute_result"
    }
   ],
   "source": [
    "evaluate_error(temp[1], data_set[i][\"labels\"])"
   ]
  },
  {
   "cell_type": "markdown",
   "metadata": {},
   "source": [
    "## K-subspaces"
   ]
  },
  {
   "cell_type": "code",
   "execution_count": 7,
   "metadata": {},
   "outputs": [],
   "source": [
    "i = 2"
   ]
  },
  {
   "cell_type": "code",
   "execution_count": 40,
   "metadata": {},
   "outputs": [],
   "source": [
    "# %load_ext line_profiler"
   ]
  },
  {
   "cell_type": "code",
   "execution_count": 86,
   "metadata": {
    "scrolled": true
   },
   "outputs": [
    {
     "name": "stdout",
     "output_type": "stream",
     "text": [
      "mu Error :  4965.92247221 U error 109.984822701\n",
      "mu Error :  3416.44224158 U error 3.46077090084\n",
      "mu Error :  307.777767676 U error 4.0163008098\n",
      "mu Error :  304.357016789 U error 2.20612830512\n",
      "mu Error :  162.811973321 U error 2.83835783643\n",
      "mu Error :  140.015325782 U error 0.458270445847\n",
      "*** KeyboardInterrupt exception caught in code being profiled."
     ]
    }
   ],
   "source": [
    "%lprun -f ksubspaces ksubspaces(data_set[i][\"data\"], i, 3 * np.ones((i,1)), 5)"
   ]
  },
  {
   "cell_type": "code",
   "execution_count": 35,
   "metadata": {},
   "outputs": [
    {
     "name": "stdout",
     "output_type": "stream",
     "text": [
      "Erreur : 0.40625\n"
     ]
    },
    {
     "data": {
      "text/plain": [
       "0.40625"
      ]
     },
     "execution_count": 35,
     "metadata": {},
     "output_type": "execute_result"
    }
   ],
   "source": [
    "evaluate_error(R[0][1], data_set[i][\"labels\"])"
   ]
  },
  {
   "cell_type": "code",
   "execution_count": 129,
   "metadata": {},
   "outputs": [
    {
     "name": "stdout",
     "output_type": "stream",
     "text": [
      "Current error for 0 replicate : 35916.58420562846\n",
      "Current error for 0 replicate : 26698.848022677324\n",
      "Current error for 0 replicate : 26441.8308791306\n",
      "Current error for 0 replicate : 25856.319083505685\n",
      "Current error for 0 replicate : 25049.05950143832\n",
      "Current error for 0 replicate : 24847.248807715587\n",
      "Current error for 0 replicate : 24712.4252953117\n",
      "Current error for 0 replicate : 24641.183511786687\n",
      "Current error for 0 replicate : 24564.026926368617\n",
      "Current error for 0 replicate : 24555.920715016822\n",
      "Current error for 0 replicate : 24549.537951168495\n",
      "Current error for 0 replicate : 24543.27529708304\n",
      "Current error for 1 replicate : 40581.32391876835\n",
      "Current error for 1 replicate : 26085.419198076906\n",
      "Current error for 1 replicate : 25590.15080985783\n",
      "Current error for 1 replicate : 25263.057740098335\n",
      "Current error for 1 replicate : 25002.85132470961\n",
      "Current error for 1 replicate : 24892.63046599432\n",
      "Current error for 1 replicate : 24846.75213457641\n",
      "Current error for 1 replicate : 24791.964286120354\n",
      "Current error for 1 replicate : 24742.918969210634\n",
      "Current error for 1 replicate : 24726.724140951523\n",
      "Current error for 2 replicate : 42237.96194183616\n",
      "Current error for 2 replicate : 24914.86429413429\n",
      "Current error for 2 replicate : 24846.75213457641\n",
      "Current error for 2 replicate : 24791.964286120354\n",
      "Current error for 2 replicate : 24742.918969210634\n",
      "Current error for 2 replicate : 24726.724140951523\n",
      "Current error for 3 replicate : 35105.66892967573\n",
      "Current error for 3 replicate : 26261.11095516734\n",
      "Current error for 3 replicate : 25369.71403057107\n",
      "Current error for 3 replicate : 24927.469127331973\n",
      "Current error for 3 replicate : 24806.72549340681\n",
      "Current error for 3 replicate : 24691.76970366855\n",
      "Current error for 3 replicate : 24581.486011758003\n",
      "Current error for 3 replicate : 24555.920715016822\n",
      "Current error for 3 replicate : 24549.537951168495\n",
      "Current error for 3 replicate : 24543.27529708304\n",
      "Current error for 4 replicate : 39904.507427106524\n",
      "Current error for 4 replicate : 25226.026383509292\n",
      "Current error for 4 replicate : 24881.80453633411\n",
      "Current error for 4 replicate : 24730.040879796117\n",
      "Current error for 4 replicate : 24726.724140951523\n",
      "[24543.275297083041, 24726.724140951523, 24726.724140951523, 24543.275297083041, 24726.724140951523]\n"
     ]
    }
   ],
   "source": [
    "%lprun -f ksubspaces R1 = ksubspaces(data_set[i][\"data\"], i, 3 * np.ones((i,1)), 5)"
   ]
  },
  {
   "cell_type": "code",
   "execution_count": 144,
   "metadata": {},
   "outputs": [
    {
     "data": {
      "text/plain": [
       "258048"
      ]
     },
     "execution_count": 144,
     "metadata": {},
     "output_type": "execute_result"
    }
   ],
   "source": [
    "2016 * 128"
   ]
  },
  {
   "cell_type": "code",
   "execution_count": 23,
   "metadata": {},
   "outputs": [
    {
     "ename": "NameError",
     "evalue": "name 'R1' is not defined",
     "output_type": "error",
     "traceback": [
      "\u001b[0;31m---------------------------------------------------------------------------\u001b[0m",
      "\u001b[0;31mNameError\u001b[0m                                 Traceback (most recent call last)",
      "\u001b[0;32m<ipython-input-23-1de1f4fc5642>\u001b[0m in \u001b[0;36m<module>\u001b[0;34m()\u001b[0m\n\u001b[0;32m----> 1\u001b[0;31m \u001b[0mevaluate_error\u001b[0m\u001b[0;34m(\u001b[0m\u001b[0mR1\u001b[0m\u001b[0;34m[\u001b[0m\u001b[0;36m0\u001b[0m\u001b[0;34m]\u001b[0m\u001b[0;34m[\u001b[0m\u001b[0;36m0\u001b[0m\u001b[0;34m]\u001b[0m\u001b[0;34m,\u001b[0m \u001b[0mdata_set\u001b[0m\u001b[0;34m[\u001b[0m\u001b[0mi\u001b[0m\u001b[0;34m]\u001b[0m\u001b[0;34m[\u001b[0m\u001b[0;34m\"labels\"\u001b[0m\u001b[0;34m]\u001b[0m\u001b[0;34m)\u001b[0m\u001b[0;34m\u001b[0m\u001b[0m\n\u001b[0m",
      "\u001b[0;31mNameError\u001b[0m: name 'R1' is not defined"
     ]
    }
   ],
   "source": [
    "evaluate_error(R1[0][0], data_set[i][\"labels\"])"
   ]
  },
  {
   "cell_type": "code",
   "execution_count": 38,
   "metadata": {
    "scrolled": false
   },
   "outputs": [
    {
     "name": "stdout",
     "output_type": "stream",
     "text": [
      "Current error for 0 replicate : 6.05300e+05\n",
      "Current error for 0 replicate : 4.33617e+05\n",
      "Current error for 0 replicate : 4.18402e+05\n",
      "Current error for 0 replicate : 4.17176e+05\n",
      "Current error for 1 replicate : 6.61762e+05\n",
      "Current error for 1 replicate : 5.84580e+05\n",
      "Current error for 1 replicate : 5.49499e+05\n",
      "Current error for 1 replicate : 5.27064e+05\n",
      "Current error for 1 replicate : 5.23844e+05\n",
      "Current error for 1 replicate : 5.23723e+05\n",
      "Current error for 2 replicate : 1.02318e+06\n",
      "Current error for 2 replicate : 7.01338e+05\n",
      "Current error for 2 replicate : 6.72369e+05\n",
      "Current error for 2 replicate : 6.54380e+05\n",
      "Current error for 2 replicate : 6.29650e+05\n",
      "Current error for 2 replicate : 6.22200e+05\n",
      "Current error for 2 replicate : 6.20309e+05\n",
      "Current error for 2 replicate : 6.19636e+05\n",
      "Current error for 3 replicate : 6.83086e+05\n",
      "Current error for 3 replicate : 6.60175e+05\n",
      "Current error for 3 replicate : 6.54371e+05\n",
      "Current error for 3 replicate : 6.53917e+05\n",
      "Current error for 4 replicate : 5.71671e+05\n",
      "Current error for 4 replicate : 5.07178e+05\n",
      "Current error for 4 replicate : 5.01316e+05\n",
      "Current error for 4 replicate : 5.00499e+05\n",
      "Current error for 4 replicate : 5.00356e+05\n"
     ]
    }
   ],
   "source": [
    "%lprun -f ksubspaces R2 = ksubspaces(data_set[i][\"data\"], i, [3]*i, 5, verbose = True)"
   ]
  },
  {
   "cell_type": "code",
   "execution_count": 34,
   "metadata": {},
   "outputs": [
    {
     "data": {
      "text/plain": [
       "0.49219"
      ]
     },
     "execution_count": 34,
     "metadata": {},
     "output_type": "execute_result"
    }
   ],
   "source": [
    "evaluate_error(R2[0][0], data_set[i][\"labels\"])"
   ]
  },
  {
   "cell_type": "code",
   "execution_count": null,
   "metadata": {},
   "outputs": [],
   "source": [
    "R1 = ksubspaces(data_set[i][\"data\"][:, ::10], i, 3 * np.ones((i,1)), 1)"
   ]
  },
  {
   "cell_type": "code",
   "execution_count": 33,
   "metadata": {},
   "outputs": [
    {
     "name": "stdout",
     "output_type": "stream",
     "text": [
      "Current error for 0 replicate : 3.52319e+04\n",
      "Current error for 0 replicate : 2.46997e+04\n",
      "Current error for 0 replicate : 2.46117e+04\n",
      "Current error for 0 replicate : 2.45358e+04\n",
      "Current error for 0 replicate : 2.45253e+04\n",
      "Current error for 0 replicate : 2.45195e+04\n",
      "Current error for 1 replicate : 3.51137e+04\n",
      "Current error for 1 replicate : 2.57066e+04\n",
      "Current error for 1 replicate : 2.47695e+04\n",
      "Current error for 1 replicate : 2.45418e+04\n",
      "Current error for 1 replicate : 2.45295e+04\n",
      "Current error for 2 replicate : 2.98564e+04\n",
      "Current error for 2 replicate : 2.46553e+04\n",
      "Current error for 2 replicate : 2.46220e+04\n",
      "Current error for 2 replicate : 2.45864e+04\n",
      "Current error for 2 replicate : 2.45575e+04\n",
      "Current error for 2 replicate : 2.45474e+04\n",
      "Current error for 2 replicate : 2.45389e+04\n",
      "Current error for 3 replicate : 3.51969e+04\n",
      "Current error for 3 replicate : 2.50902e+04\n",
      "Current error for 3 replicate : 2.47624e+04\n",
      "Current error for 3 replicate : 2.46734e+04\n",
      "Current error for 3 replicate : 2.45637e+04\n",
      "Current error for 3 replicate : 2.45378e+04\n",
      "Current error for 3 replicate : 2.45318e+04\n",
      "Current error for 3 replicate : 2.45255e+04\n",
      "Current error for 4 replicate : 3.40678e+04\n",
      "Current error for 4 replicate : 2.50621e+04\n",
      "Current error for 4 replicate : 2.48878e+04\n",
      "Current error for 4 replicate : 2.48149e+04\n",
      "Current error for 4 replicate : 2.47593e+04\n",
      "Current error for 4 replicate : 2.47100e+04\n",
      "Current error for 4 replicate : 2.46938e+04\n",
      "Current error for 5 replicate : 3.08137e+04\n",
      "Current error for 5 replicate : 2.46982e+04\n",
      "Current error for 5 replicate : 2.46802e+04\n",
      "Current error for 5 replicate : 2.46683e+04\n",
      "Current error for 5 replicate : 2.46481e+04\n",
      "Current error for 5 replicate : 2.46075e+04\n",
      "Current error for 5 replicate : 2.45728e+04\n",
      "Current error for 5 replicate : 2.45608e+04\n",
      "Current error for 5 replicate : 2.45516e+04\n",
      "Current error for 5 replicate : 2.45432e+04\n",
      "Current error for 6 replicate : 3.43401e+04\n",
      "Current error for 6 replicate : 2.49562e+04\n",
      "Current error for 6 replicate : 2.48616e+04\n",
      "Current error for 6 replicate : 2.48320e+04\n",
      "Current error for 6 replicate : 2.47774e+04\n",
      "Current error for 6 replicate : 2.47286e+04\n",
      "Current error for 6 replicate : 2.47124e+04\n",
      "Current error for 7 replicate : 3.10567e+04\n",
      "Current error for 7 replicate : 2.56421e+04\n",
      "Current error for 7 replicate : 2.52880e+04\n",
      "Current error for 7 replicate : 2.49965e+04\n",
      "Current error for 7 replicate : 2.48993e+04\n",
      "Current error for 7 replicate : 2.48341e+04\n",
      "Current error for 7 replicate : 2.47793e+04\n",
      "Current error for 7 replicate : 2.47302e+04\n",
      "Current error for 7 replicate : 2.47140e+04\n",
      "Current error for 8 replicate : 3.85384e+04\n",
      "Current error for 8 replicate : 2.48340e+04\n",
      "Current error for 8 replicate : 2.46122e+04\n",
      "Current error for 8 replicate : 2.45792e+04\n",
      "Current error for 8 replicate : 2.45511e+04\n",
      "Current error for 8 replicate : 2.45415e+04\n",
      "Current error for 8 replicate : 2.45330e+04\n",
      "Current error for 9 replicate : 4.01785e+04\n",
      "Current error for 9 replicate : 2.76848e+04\n",
      "Current error for 9 replicate : 2.65451e+04\n",
      "Current error for 9 replicate : 2.52334e+04\n",
      "Current error for 9 replicate : 2.48055e+04\n",
      "Current error for 9 replicate : 2.47083e+04\n",
      "Current error for 9 replicate : 2.46251e+04\n",
      "Current error for 9 replicate : 2.45476e+04\n",
      "Current error for 9 replicate : 2.45397e+04\n",
      "Current error for 9 replicate : 2.45334e+04\n",
      "Current error for 9 replicate : 2.45271e+04\n",
      "Best replicate 0 with error 24519.473576856828\n"
     ]
    }
   ],
   "source": [
    "R2 = ksubspaces(data_set[i][\"data\"], i, [3] * i, 10, verbose = True)"
   ]
  },
  {
   "cell_type": "code",
   "execution_count": 15,
   "metadata": {},
   "outputs": [
    {
     "data": {
      "text/plain": [
       "array([0, 0, 0, 1, 0, 0, 0, 0, 0, 0, 0, 0, 0, 1, 0, 0, 0, 1, 0, 0, 1, 0, 1,\n",
       "       0, 0, 1, 0, 1, 1, 1, 1, 1, 1, 1, 1, 0, 0, 0, 0, 0, 1, 0, 1, 1, 1, 1,\n",
       "       1, 1, 1, 1, 1, 1, 1, 1, 1, 1, 1, 1, 1, 1, 1, 1, 1, 1, 0, 0, 0, 1, 0,\n",
       "       0, 0, 0, 0, 0, 0, 0, 1, 1, 0, 0, 0, 0, 0, 0, 1, 0, 1, 0, 0, 1, 0, 1,\n",
       "       1, 1, 1, 1, 1, 1, 1, 0, 0, 0, 0, 0, 0, 0, 1, 0, 1, 1, 1, 1, 1, 1, 1,\n",
       "       1, 1, 1, 1, 1, 1, 1, 1, 1, 1, 1, 1, 1])"
      ]
     },
     "execution_count": 15,
     "metadata": {},
     "output_type": "execute_result"
    }
   ],
   "source": [
    "R2[0][1]"
   ]
  },
  {
   "cell_type": "code",
   "execution_count": 32,
   "metadata": {},
   "outputs": [
    {
     "data": {
      "text/plain": [
       "array([1, 1, 1, 0, 1, 1, 1, 1, 1, 1, 1, 1, 1, 0, 0, 0, 0, 0, 0, 0, 0, 0, 0,\n",
       "       0, 0, 0, 0, 0, 0, 0, 0, 0, 0, 0, 0, 1, 1, 1, 1, 1, 1, 1, 1, 1, 1, 1,\n",
       "       0, 1, 1, 1, 1, 1, 1, 1, 1, 1, 1, 0, 0, 0, 0, 0, 0, 0, 1, 1, 0, 0, 1,\n",
       "       1, 1, 1, 1, 1, 1, 1, 0, 0, 1, 0, 0, 0, 0, 0, 0, 0, 0, 0, 0, 0, 0, 0,\n",
       "       0, 0, 0, 0, 0, 0, 0, 1, 1, 1, 1, 1, 1, 1, 1, 1, 1, 1, 0, 1, 1, 1, 1,\n",
       "       0, 0, 0, 0, 0, 0, 0, 0, 0, 0, 0, 0, 0])"
      ]
     },
     "execution_count": 32,
     "metadata": {},
     "output_type": "execute_result"
    }
   ],
   "source": [
    "R2[0].argmax(0)"
   ]
  },
  {
   "cell_type": "code",
   "execution_count": 20,
   "metadata": {},
   "outputs": [
    {
     "data": {
      "text/plain": [
       "(2016, 242)"
      ]
     },
     "execution_count": 20,
     "metadata": {},
     "output_type": "execute_result"
    }
   ],
   "source": [
    "data_set[i][\"data\"][:, ::10].shape"
   ]
  }
 ],
 "metadata": {
  "kernelspec": {
   "display_name": "Python 3",
   "language": "python",
   "name": "python3"
  },
  "language_info": {
   "codemirror_mode": {
    "name": "ipython",
    "version": 3
   },
   "file_extension": ".py",
   "mimetype": "text/x-python",
   "name": "python",
   "nbconvert_exporter": "python",
   "pygments_lexer": "ipython3",
   "version": "3.5.2"
  }
 },
 "nbformat": 4,
 "nbformat_minor": 2
}
