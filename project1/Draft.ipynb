{
 "cells": [
  {
   "cell_type": "code",
   "execution_count": 1,
   "metadata": {},
   "outputs": [],
   "source": [
    "import numpy as np"
   ]
  },
  {
   "cell_type": "markdown",
   "metadata": {},
   "source": [
    "# Implementations"
   ]
  },
  {
   "cell_type": "markdown",
   "metadata": {},
   "source": [
    "## Proximal operators"
   ]
  },
  {
   "cell_type": "markdown",
   "metadata": {},
   "source": [
    "### Soft thresholding operator"
   ]
  },
  {
   "cell_type": "code",
   "execution_count": 8,
   "metadata": {},
   "outputs": [],
   "source": [
    "def soft_thresholding(mat, epsilon):\n",
    "    \"\"\"\n",
    "    Soft thresholding operator\n",
    "    Proximal operator of the L1 norm\n",
    "    :param mat: matrix to threshold\n",
    "    :param epsilon: value of threshold\n",
    "    :return mat: thresholded matrix\n",
    "    \"\"\"\n",
    "    mat[np.abs(mat) < epsilon] = 0\n",
    "    mat[mat > epsilon] -= epsilon\n",
    "    mat[mat < -epsilon] += epsilon\n",
    "\n",
    "    return mat"
   ]
  },
  {
   "cell_type": "markdown",
   "metadata": {},
   "source": [
    "### Singular value thresholding"
   ]
  },
  {
   "cell_type": "code",
   "execution_count": 12,
   "metadata": {},
   "outputs": [],
   "source": [
    "def svalue_thresholding(mat, epsilon):\n",
    "    \"\"\"\n",
    "    Singular value thresholding\n",
    "    Proximal operator of the nuclear norm\n",
    "    :param mat: matrix of svalue to threshold\n",
    "    :param epsilon: value of threshold\n",
    "    :return mat: thresholded matrix\n",
    "    \"\"\"\n",
    "    u, s, v = np.linalg.svd(mat, full_matrices = False, compute_uv = 1)\n",
    "    soft_thresholding(s, epsilon)\n",
    "    return u.dot(np.diag(s).dot(v))"
   ]
  },
  {
   "cell_type": "markdown",
   "metadata": {},
   "source": [
    "## Function A=lrmc(X,W,tau,beta)\n",
    "### Parameters\n",
    "+ X D × N data matrix.\n",
    "+ W D × N binary matrix denoting known (1) or missing (0) entries.\n",
    "+ $\\tau$ Parameter of the optimization problem in (3.30).\n",
    "+ $\\beta$ Step size of the dual gradient ascent step in (3.32).\n",
    "\n",
    "### Returned values\n",
    "A Low-rank completion of the matrix X.\n",
    "### Description\n",
    "Finds a low-rank matrix A whose entries in W coincide with those of X by using the SVT algorithm."
   ]
  },
  {
   "cell_type": "code",
   "execution_count": 3,
   "metadata": {},
   "outputs": [],
   "source": [
    "def lrmc(X, W, tau, beta):\n",
    "    \"\"\"\n",
    "    Finds a low-rank matrix A whose entries in W coincide\n",
    "    with those of X by using the SVT algorithm.\n",
    "    :param X: DxD data matrix\n",
    "    :param W: DxN binary matrix denoting known (1) or missing (0) entries\n",
    "    :param tau: Parameter of the optimization problem\n",
    "    :param beta: Step size of the dual gradient ascent step\n",
    "    :return A: Low-rank completion of the mtrix X\n",
    "    \"\"\"\n",
    "    \n"
   ]
  },
  {
   "cell_type": "code",
   "execution_count": null,
   "metadata": {},
   "outputs": [],
   "source": []
  }
 ],
 "metadata": {
  "kernelspec": {
   "display_name": "Python 3",
   "language": "python",
   "name": "python3"
  },
  "language_info": {
   "codemirror_mode": {
    "name": "ipython",
    "version": 3
   },
   "file_extension": ".py",
   "mimetype": "text/x-python",
   "name": "python",
   "nbconvert_exporter": "python",
   "pygments_lexer": "ipython3",
   "version": "3.5.2"
  }
 },
 "nbformat": 4,
 "nbformat_minor": 2
}
